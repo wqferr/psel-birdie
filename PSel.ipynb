{
 "cells": [
  {
   "cell_type": "code",
   "execution_count": 82,
   "metadata": {},
   "outputs": [],
   "source": [
    "import pandas as pd\n",
    "import re\n",
    "\n",
    "import seaborn as sns\n",
    "from matplotlib import pyplot as plt\n",
    "\n",
    "%matplotlib inline"
   ]
  },
  {
   "cell_type": "code",
   "execution_count": 99,
   "metadata": {},
   "outputs": [
    {
     "data": {
      "text/html": [
       "<div>\n",
       "<style scoped>\n",
       "    .dataframe tbody tr th:only-of-type {\n",
       "        vertical-align: middle;\n",
       "    }\n",
       "\n",
       "    .dataframe tbody tr th {\n",
       "        vertical-align: top;\n",
       "    }\n",
       "\n",
       "    .dataframe thead th {\n",
       "        text-align: right;\n",
       "    }\n",
       "</style>\n",
       "<table border=\"1\" class=\"dataframe\">\n",
       "  <thead>\n",
       "    <tr style=\"text-align: right;\">\n",
       "      <th></th>\n",
       "      <th>TITLE</th>\n",
       "      <th>smartphone</th>\n",
       "    </tr>\n",
       "  </thead>\n",
       "  <tbody>\n",
       "    <tr>\n",
       "      <th>0</th>\n",
       "      <td>Capa Samsung Galaxy S5 Mini Pc Couro Branco</td>\n",
       "      <td>0</td>\n",
       "    </tr>\n",
       "    <tr>\n",
       "      <th>1</th>\n",
       "      <td>Cabo Usb Retrátil  3 Adaptadores Preto - Muvit</td>\n",
       "      <td>0</td>\n",
       "    </tr>\n",
       "    <tr>\n",
       "      <th>2</th>\n",
       "      <td>Celular Samsung Galaxy A8 Plus 2018 Sm-a730f 6...</td>\n",
       "      <td>1</td>\n",
       "    </tr>\n",
       "    <tr>\n",
       "      <th>3</th>\n",
       "      <td>Lousa Magnética Grande Em Formato De Vaca Suelen</td>\n",
       "      <td>0</td>\n",
       "    </tr>\n",
       "    <tr>\n",
       "      <th>4</th>\n",
       "      <td>Aplique Madeira E Papel Placa Pinguim Com Colh...</td>\n",
       "      <td>0</td>\n",
       "    </tr>\n",
       "  </tbody>\n",
       "</table>\n",
       "</div>"
      ],
      "text/plain": [
       "                                               TITLE  smartphone\n",
       "0        Capa Samsung Galaxy S5 Mini Pc Couro Branco           0\n",
       "1     Cabo Usb Retrátil  3 Adaptadores Preto - Muvit           0\n",
       "2  Celular Samsung Galaxy A8 Plus 2018 Sm-a730f 6...           1\n",
       "3   Lousa Magnética Grande Em Formato De Vaca Suelen           0\n",
       "4  Aplique Madeira E Papel Placa Pinguim Com Colh...           0"
      ]
     },
     "execution_count": 99,
     "metadata": {},
     "output_type": "execute_result"
    }
   ],
   "source": [
    "annotated_data = pd.read_csv('sample.csv')\n",
    "annotated_data.head()"
   ]
  },
  {
   "cell_type": "code",
   "execution_count": 101,
   "metadata": {},
   "outputs": [],
   "source": [
    "patterns_re = [\n",
    "    re.compile(r'smart', re.IGNORECASE), # contém \"smart\"\n",
    "    re.compile(r'(?:ph|f)one', re.IGNORECASE), # contém \"fone\" ou \"phone\"\n",
    "    re.compile(r'celular', re.IGNORECASE), # contém \"celular\"\n",
    "    re.compile(r'\\b[a-z]\\d\\b', re.IGNORECASE), # contém, p.e., \"G5\", \"S9\", ...\n",
    "    re.compile(r'\\bcapa\\b', re.IGNORECASE), # contém \"capa\"\n",
    "    re.compile(r'\\bpara\\b', re.IGNORECASE), # contém \"para\" (p.e. \"antena para celular\")\n",
    "]\n",
    "\n",
    "attr_names = ['smart', 'phone', 'celular', 'XN', 'capa', 'para']"
   ]
  },
  {
   "cell_type": "code",
   "execution_count": 102,
   "metadata": {},
   "outputs": [],
   "source": [
    "def get_attributes(title):\n",
    "    title_attributes = []\n",
    "    for pattern in patterns_re:\n",
    "        if pattern.search(title) is None:\n",
    "            title_attributes.append(0)\n",
    "        else:\n",
    "            title_attributes.append(1)\n",
    "    return title_attributes"
   ]
  },
  {
   "cell_type": "code",
   "execution_count": 103,
   "metadata": {},
   "outputs": [
    {
     "data": {
      "text/html": [
       "<div>\n",
       "<style scoped>\n",
       "    .dataframe tbody tr th:only-of-type {\n",
       "        vertical-align: middle;\n",
       "    }\n",
       "\n",
       "    .dataframe tbody tr th {\n",
       "        vertical-align: top;\n",
       "    }\n",
       "\n",
       "    .dataframe thead th {\n",
       "        text-align: right;\n",
       "    }\n",
       "</style>\n",
       "<table border=\"1\" class=\"dataframe\">\n",
       "  <thead>\n",
       "    <tr style=\"text-align: right;\">\n",
       "      <th></th>\n",
       "      <th>TITLE</th>\n",
       "      <th>smart</th>\n",
       "      <th>phone</th>\n",
       "      <th>celular</th>\n",
       "      <th>XN</th>\n",
       "      <th>capa</th>\n",
       "      <th>para</th>\n",
       "      <th>smartphone</th>\n",
       "    </tr>\n",
       "  </thead>\n",
       "  <tbody>\n",
       "    <tr>\n",
       "      <th>231</th>\n",
       "      <td>Cinta Elástica Lombar Salvapé Lite 161 Lt</td>\n",
       "      <td>0</td>\n",
       "      <td>0</td>\n",
       "      <td>0</td>\n",
       "      <td>0</td>\n",
       "      <td>0</td>\n",
       "      <td>0</td>\n",
       "      <td>0</td>\n",
       "    </tr>\n",
       "    <tr>\n",
       "      <th>151</th>\n",
       "      <td>Aplique Madeira E Papel 3d Jacaré Marinheiro L...</td>\n",
       "      <td>0</td>\n",
       "      <td>0</td>\n",
       "      <td>0</td>\n",
       "      <td>0</td>\n",
       "      <td>0</td>\n",
       "      <td>0</td>\n",
       "      <td>0</td>\n",
       "    </tr>\n",
       "    <tr>\n",
       "      <th>393</th>\n",
       "      <td>Preta Gil Esmalte Cremoso Cinza Luxo 9ml</td>\n",
       "      <td>0</td>\n",
       "      <td>0</td>\n",
       "      <td>0</td>\n",
       "      <td>0</td>\n",
       "      <td>0</td>\n",
       "      <td>0</td>\n",
       "      <td>0</td>\n",
       "    </tr>\n",
       "    <tr>\n",
       "      <th>6</th>\n",
       "      <td>Tinta Para Hp Universal High Definition Aton B...</td>\n",
       "      <td>0</td>\n",
       "      <td>0</td>\n",
       "      <td>0</td>\n",
       "      <td>0</td>\n",
       "      <td>0</td>\n",
       "      <td>1</td>\n",
       "      <td>0</td>\n",
       "    </tr>\n",
       "    <tr>\n",
       "      <th>122</th>\n",
       "      <td>Carretilha Marine Sports Caster 200 (Manivela ...</td>\n",
       "      <td>0</td>\n",
       "      <td>0</td>\n",
       "      <td>0</td>\n",
       "      <td>0</td>\n",
       "      <td>0</td>\n",
       "      <td>0</td>\n",
       "      <td>0</td>\n",
       "    </tr>\n",
       "    <tr>\n",
       "      <th>186</th>\n",
       "      <td>Apple Iphone 8 Plus 64gb Novo Lacrado 1 Ano Ga...</td>\n",
       "      <td>0</td>\n",
       "      <td>1</td>\n",
       "      <td>0</td>\n",
       "      <td>0</td>\n",
       "      <td>0</td>\n",
       "      <td>0</td>\n",
       "      <td>1</td>\n",
       "    </tr>\n",
       "    <tr>\n",
       "      <th>496</th>\n",
       "      <td>Pulseira Masculina Feminina Lava Vulcância Cru...</td>\n",
       "      <td>0</td>\n",
       "      <td>0</td>\n",
       "      <td>0</td>\n",
       "      <td>0</td>\n",
       "      <td>0</td>\n",
       "      <td>0</td>\n",
       "      <td>0</td>\n",
       "    </tr>\n",
       "    <tr>\n",
       "      <th>431</th>\n",
       "      <td>Capa para Vade Mecum com Alça de Ombro Veneza</td>\n",
       "      <td>0</td>\n",
       "      <td>0</td>\n",
       "      <td>0</td>\n",
       "      <td>0</td>\n",
       "      <td>1</td>\n",
       "      <td>1</td>\n",
       "      <td>0</td>\n",
       "    </tr>\n",
       "    <tr>\n",
       "      <th>460</th>\n",
       "      <td>Omnitrix Touch Omniverse Nova Versão - Sunny 654</td>\n",
       "      <td>0</td>\n",
       "      <td>0</td>\n",
       "      <td>0</td>\n",
       "      <td>0</td>\n",
       "      <td>0</td>\n",
       "      <td>0</td>\n",
       "      <td>0</td>\n",
       "    </tr>\n",
       "    <tr>\n",
       "      <th>401</th>\n",
       "      <td>Papel Decoupage Flores Roxas Ld-797 - Litocart</td>\n",
       "      <td>0</td>\n",
       "      <td>0</td>\n",
       "      <td>0</td>\n",
       "      <td>0</td>\n",
       "      <td>0</td>\n",
       "      <td>0</td>\n",
       "      <td>0</td>\n",
       "    </tr>\n",
       "  </tbody>\n",
       "</table>\n",
       "</div>"
      ],
      "text/plain": [
       "                                                 TITLE  smart  phone  celular  \\\n",
       "231          Cinta Elástica Lombar Salvapé Lite 161 Lt      0      0        0   \n",
       "151  Aplique Madeira E Papel 3d Jacaré Marinheiro L...      0      0        0   \n",
       "393           Preta Gil Esmalte Cremoso Cinza Luxo 9ml      0      0        0   \n",
       "6    Tinta Para Hp Universal High Definition Aton B...      0      0        0   \n",
       "122  Carretilha Marine Sports Caster 200 (Manivela ...      0      0        0   \n",
       "186  Apple Iphone 8 Plus 64gb Novo Lacrado 1 Ano Ga...      0      1        0   \n",
       "496  Pulseira Masculina Feminina Lava Vulcância Cru...      0      0        0   \n",
       "431      Capa para Vade Mecum com Alça de Ombro Veneza      0      0        0   \n",
       "460   Omnitrix Touch Omniverse Nova Versão - Sunny 654      0      0        0   \n",
       "401     Papel Decoupage Flores Roxas Ld-797 - Litocart      0      0        0   \n",
       "\n",
       "     XN  capa  para  smartphone  \n",
       "231   0     0     0           0  \n",
       "151   0     0     0           0  \n",
       "393   0     0     0           0  \n",
       "6     0     0     1           0  \n",
       "122   0     0     0           0  \n",
       "186   0     0     0           1  \n",
       "496   0     0     0           0  \n",
       "431   0     1     1           0  \n",
       "460   0     0     0           0  \n",
       "401   0     0     0           0  "
      ]
     },
     "execution_count": 103,
     "metadata": {},
     "output_type": "execute_result"
    }
   ],
   "source": [
    "attributes = []\n",
    "for i in annotated_data.index:\n",
    "    row_attr = get_attributes(annotated_data.loc[i].TITLE)\n",
    "    attributes.append(row_attr)\n",
    "annotated_attributes = pd.DataFrame(attributes)\n",
    "annotated_attributes.columns = attr_names\n",
    "annotated_attributes.insert(0, 'TITLE', annotated_data.TITLE)\n",
    "annotated_attributes['smartphone'] = annotated_data.smartphone\n",
    "\n",
    "annotated_attributes.sample(10)"
   ]
  },
  {
   "cell_type": "code",
   "execution_count": 83,
   "metadata": {},
   "outputs": [
    {
     "data": {
      "image/png": "[encoded data removed]",
      "text/plain": [
       "<Figure size 432x288 with 2 Axes>"
      ]
     },
     "metadata": {
      "needs_background": "light"
     },
     "output_type": "display_data"
    }
   ],
   "source": [
    "sns.heatmap(annotated_attributes.corr(), vmin=-1, vmax=+1, cmap=sns.color_palette(\"RdBu_r\", 7))\n",
    "plt.show()"
   ]
  },
  {
   "cell_type": "code",
   "execution_count": 85,
   "metadata": {},
   "outputs": [],
   "source": [
    "from sklearn.linear_model import Perceptron\n",
    "from sklearn.model_selection import cross_val_score"
   ]
  },
  {
   "cell_type": "code",
   "execution_count": 92,
   "metadata": {},
   "outputs": [],
   "source": [
    "perceptron = Perceptron(max_iter=1e3)\n",
    "roc_auc = cross_val_score(\n",
    "    perceptron,\n",
    "    annotated_attributes.iloc[:, 1:7].values,\n",
    "    annotated_attributes.iloc[:, 7].values,\n",
    "    scoring='roc_auc',\n",
    "    cv=10\n",
    ")"
   ]
  },
  {
   "cell_type": "code",
   "execution_count": 93,
   "metadata": {},
   "outputs": [
    {
     "data": {
      "text/plain": [
       "array([0.98333333, 0.98      , 0.97333333, 1.        , 1.        ,\n",
       "       1.        , 0.92666667, 1.        , 0.98      , 0.94285714])"
      ]
     },
     "execution_count": 93,
     "metadata": {},
     "output_type": "execute_result"
    }
   ],
   "source": [
    "roc_auc"
   ]
  }
 ],
 "metadata": {
  "kernelspec": {
   "display_name": "Python 3",
   "language": "python",
   "name": "python3"
  },
  "language_info": {
   "codemirror_mode": {
    "name": "ipython",
    "version": 3
   },
   "file_extension": ".py",
   "mimetype": "text/x-python",
   "name": "python",
   "nbconvert_exporter": "python",
   "pygments_lexer": "ipython3",
   "version": "3.6.6"
  }
 },
 "nbformat": 4,
 "nbformat_minor": 2
}
