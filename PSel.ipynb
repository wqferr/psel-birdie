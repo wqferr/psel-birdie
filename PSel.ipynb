{
 "cells": [
  {
   "cell_type": "markdown",
   "metadata": {},
   "source": [
    "O treinamento do modelo se deu sobre um subconjunto dos dados que foi anotado manualmente.  \n",
    "O conjunto anotado pode ser encontrado em `sample.csv`.\n",
    "\n",
    "A amostragem foi feita através do script `sample.py`."
   ]
  },
  {
   "cell_type": "code",
   "execution_count": 78,
   "metadata": {},
   "outputs": [],
   "source": [
    "import numpy as np\n",
    "import pandas as pd\n",
    "import re\n",
    "\n",
    "import seaborn as sns\n",
    "from matplotlib import pyplot as plt\n",
    "\n",
    "%matplotlib inline"
   ]
  },
  {
   "cell_type": "code",
   "execution_count": 79,
   "metadata": {},
   "outputs": [
    {
     "data": {
      "text/html": [
       "<div>\n",
       "<style scoped>\n",
       "    .dataframe tbody tr th:only-of-type {\n",
       "        vertical-align: middle;\n",
       "    }\n",
       "\n",
       "    .dataframe tbody tr th {\n",
       "        vertical-align: top;\n",
       "    }\n",
       "\n",
       "    .dataframe thead th {\n",
       "        text-align: right;\n",
       "    }\n",
       "</style>\n",
       "<table border=\"1\" class=\"dataframe\">\n",
       "  <thead>\n",
       "    <tr style=\"text-align: right;\">\n",
       "      <th></th>\n",
       "      <th>TITLE</th>\n",
       "      <th>smartphone</th>\n",
       "    </tr>\n",
       "  </thead>\n",
       "  <tbody>\n",
       "    <tr>\n",
       "      <th>0</th>\n",
       "      <td>Capa Samsung Galaxy S5 Mini Pc Couro Branco</td>\n",
       "      <td>0</td>\n",
       "    </tr>\n",
       "    <tr>\n",
       "      <th>1</th>\n",
       "      <td>Cabo Usb Retrátil  3 Adaptadores Preto - Muvit</td>\n",
       "      <td>0</td>\n",
       "    </tr>\n",
       "    <tr>\n",
       "      <th>2</th>\n",
       "      <td>Celular Samsung Galaxy A8 Plus 2018 Sm-a730f 6...</td>\n",
       "      <td>1</td>\n",
       "    </tr>\n",
       "    <tr>\n",
       "      <th>3</th>\n",
       "      <td>Lousa Magnética Grande Em Formato De Vaca Suelen</td>\n",
       "      <td>0</td>\n",
       "    </tr>\n",
       "    <tr>\n",
       "      <th>4</th>\n",
       "      <td>Aplique Madeira E Papel Placa Pinguim Com Colh...</td>\n",
       "      <td>0</td>\n",
       "    </tr>\n",
       "  </tbody>\n",
       "</table>\n",
       "</div>"
      ],
      "text/plain": [
       "                                               TITLE  smartphone\n",
       "0        Capa Samsung Galaxy S5 Mini Pc Couro Branco           0\n",
       "1     Cabo Usb Retrátil  3 Adaptadores Preto - Muvit           0\n",
       "2  Celular Samsung Galaxy A8 Plus 2018 Sm-a730f 6...           1\n",
       "3   Lousa Magnética Grande Em Formato De Vaca Suelen           0\n",
       "4  Aplique Madeira E Papel Placa Pinguim Com Colh...           0"
      ]
     },
     "execution_count": 79,
     "metadata": {},
     "output_type": "execute_result"
    }
   ],
   "source": [
    "annotated_data = pd.read_csv('sample.csv')\n",
    "annotated_data.head()"
   ]
  },
  {
   "cell_type": "markdown",
   "metadata": {},
   "source": [
    "# Extração de features"
   ]
  },
  {
   "cell_type": "markdown",
   "metadata": {},
   "source": [
    "A extração de *features* foi feita através de expressões regulares:\n",
    "\n",
    "Se o título de uma instância der match em uma regex em qualquer ponto, associa-se o valor 1 àquele atributo.  \n",
    "Caso contrário, é atribuído 0."
   ]
  },
  {
   "cell_type": "code",
   "execution_count": 80,
   "metadata": {},
   "outputs": [],
   "source": [
    "patterns_re = [\n",
    "    re.compile(r'smart', re.IGNORECASE), # contém \"smart\"\n",
    "    re.compile(r'(?:ph|f)one', re.IGNORECASE), # contém \"fone\" ou \"phone\"\n",
    "    re.compile(r'celular', re.IGNORECASE), # contém \"celular\"\n",
    "    re.compile(r'\\b[a-z]\\d\\b', re.IGNORECASE), # contém, p.e., \"G5\", \"S9\", ...\n",
    "    re.compile(r'\\bcapa\\b', re.IGNORECASE), # contém \"capa\"\n",
    "    re.compile(r'\\bpara\\b', re.IGNORECASE), # contém \"para\" (p.e. \"antena para celular\")\n",
    "]\n",
    "\n",
    "# Usado para nomear as colunas do DataFrame\n",
    "attr_names = ['smart', 'phone', 'celular', 'letra_num', 'capa', 'para']"
   ]
  },
  {
   "cell_type": "code",
   "execution_count": 81,
   "metadata": {},
   "outputs": [],
   "source": [
    "# Transforma um título em uma lista de atributos\n",
    "def get_attributes(title):\n",
    "    title_attributes = []\n",
    "    for pattern in patterns_re:\n",
    "        if pattern.search(title) is None:\n",
    "            title_attributes.append(0)\n",
    "        else:\n",
    "            title_attributes.append(1)\n",
    "    return title_attributes"
   ]
  },
  {
   "cell_type": "markdown",
   "metadata": {},
   "source": [
    "## Transformação dos dados"
   ]
  },
  {
   "cell_type": "code",
   "execution_count": 82,
   "metadata": {},
   "outputs": [
    {
     "data": {
      "text/html": [
       "<div>\n",
       "<style scoped>\n",
       "    .dataframe tbody tr th:only-of-type {\n",
       "        vertical-align: middle;\n",
       "    }\n",
       "\n",
       "    .dataframe tbody tr th {\n",
       "        vertical-align: top;\n",
       "    }\n",
       "\n",
       "    .dataframe thead th {\n",
       "        text-align: right;\n",
       "    }\n",
       "</style>\n",
       "<table border=\"1\" class=\"dataframe\">\n",
       "  <thead>\n",
       "    <tr style=\"text-align: right;\">\n",
       "      <th></th>\n",
       "      <th>TITLE</th>\n",
       "      <th>smart</th>\n",
       "      <th>phone</th>\n",
       "      <th>celular</th>\n",
       "      <th>letra_num</th>\n",
       "      <th>capa</th>\n",
       "      <th>para</th>\n",
       "      <th>smartphone</th>\n",
       "    </tr>\n",
       "  </thead>\n",
       "  <tbody>\n",
       "    <tr>\n",
       "      <th>6</th>\n",
       "      <td>Tinta Para Hp Universal High Definition Aton B...</td>\n",
       "      <td>0</td>\n",
       "      <td>0</td>\n",
       "      <td>0</td>\n",
       "      <td>0</td>\n",
       "      <td>0</td>\n",
       "      <td>1</td>\n",
       "      <td>0</td>\n",
       "    </tr>\n",
       "    <tr>\n",
       "      <th>69</th>\n",
       "      <td>Capa Lg L4 Ii Tpu Amarelo</td>\n",
       "      <td>0</td>\n",
       "      <td>0</td>\n",
       "      <td>0</td>\n",
       "      <td>1</td>\n",
       "      <td>1</td>\n",
       "      <td>0</td>\n",
       "      <td>0</td>\n",
       "    </tr>\n",
       "    <tr>\n",
       "      <th>165</th>\n",
       "      <td>Fonte Carregador Sony Vaio Vgn-Fe590 Vgn-Fe590...</td>\n",
       "      <td>0</td>\n",
       "      <td>0</td>\n",
       "      <td>0</td>\n",
       "      <td>0</td>\n",
       "      <td>0</td>\n",
       "      <td>0</td>\n",
       "      <td>0</td>\n",
       "    </tr>\n",
       "    <tr>\n",
       "      <th>239</th>\n",
       "      <td>Smartphone Samsung Galaxy E5 4G Duos E500M/DS ...</td>\n",
       "      <td>1</td>\n",
       "      <td>1</td>\n",
       "      <td>0</td>\n",
       "      <td>1</td>\n",
       "      <td>0</td>\n",
       "      <td>0</td>\n",
       "      <td>1</td>\n",
       "    </tr>\n",
       "    <tr>\n",
       "      <th>253</th>\n",
       "      <td>Joico Moisture Recovery Shampoo 300ml</td>\n",
       "      <td>0</td>\n",
       "      <td>0</td>\n",
       "      <td>0</td>\n",
       "      <td>0</td>\n",
       "      <td>0</td>\n",
       "      <td>0</td>\n",
       "      <td>0</td>\n",
       "    </tr>\n",
       "    <tr>\n",
       "      <th>344</th>\n",
       "      <td>Capa Samsung Galaxy Win Duos Ultra Slim Vermelha</td>\n",
       "      <td>0</td>\n",
       "      <td>0</td>\n",
       "      <td>0</td>\n",
       "      <td>0</td>\n",
       "      <td>1</td>\n",
       "      <td>0</td>\n",
       "      <td>0</td>\n",
       "    </tr>\n",
       "    <tr>\n",
       "      <th>428</th>\n",
       "      <td>Fonte Carregador Sony Vaio Pcg-R600hfp Pcg-R60...</td>\n",
       "      <td>0</td>\n",
       "      <td>0</td>\n",
       "      <td>0</td>\n",
       "      <td>0</td>\n",
       "      <td>0</td>\n",
       "      <td>0</td>\n",
       "      <td>0</td>\n",
       "    </tr>\n",
       "    <tr>\n",
       "      <th>460</th>\n",
       "      <td>Omnitrix Touch Omniverse Nova Versão - Sunny 654</td>\n",
       "      <td>0</td>\n",
       "      <td>0</td>\n",
       "      <td>0</td>\n",
       "      <td>0</td>\n",
       "      <td>0</td>\n",
       "      <td>0</td>\n",
       "      <td>0</td>\n",
       "    </tr>\n",
       "    <tr>\n",
       "      <th>469</th>\n",
       "      <td>Aplique Madeira e Papel Placa Tartaruga LMAPC-...</td>\n",
       "      <td>0</td>\n",
       "      <td>0</td>\n",
       "      <td>0</td>\n",
       "      <td>0</td>\n",
       "      <td>0</td>\n",
       "      <td>0</td>\n",
       "      <td>0</td>\n",
       "    </tr>\n",
       "    <tr>\n",
       "      <th>495</th>\n",
       "      <td>Suporte Veicular 360ª Para Iphone 5/5s / Película</td>\n",
       "      <td>0</td>\n",
       "      <td>1</td>\n",
       "      <td>0</td>\n",
       "      <td>0</td>\n",
       "      <td>0</td>\n",
       "      <td>1</td>\n",
       "      <td>0</td>\n",
       "    </tr>\n",
       "  </tbody>\n",
       "</table>\n",
       "</div>"
      ],
      "text/plain": [
       "                                                 TITLE  smart  phone  celular  \\\n",
       "6    Tinta Para Hp Universal High Definition Aton B...      0      0        0   \n",
       "69                           Capa Lg L4 Ii Tpu Amarelo      0      0        0   \n",
       "165  Fonte Carregador Sony Vaio Vgn-Fe590 Vgn-Fe590...      0      0        0   \n",
       "239  Smartphone Samsung Galaxy E5 4G Duos E500M/DS ...      1      1        0   \n",
       "253              Joico Moisture Recovery Shampoo 300ml      0      0        0   \n",
       "344   Capa Samsung Galaxy Win Duos Ultra Slim Vermelha      0      0        0   \n",
       "428  Fonte Carregador Sony Vaio Pcg-R600hfp Pcg-R60...      0      0        0   \n",
       "460   Omnitrix Touch Omniverse Nova Versão - Sunny 654      0      0        0   \n",
       "469  Aplique Madeira e Papel Placa Tartaruga LMAPC-...      0      0        0   \n",
       "495  Suporte Veicular 360ª Para Iphone 5/5s / Película      0      1        0   \n",
       "\n",
       "     letra_num  capa  para  smartphone  \n",
       "6            0     0     1           0  \n",
       "69           1     1     0           0  \n",
       "165          0     0     0           0  \n",
       "239          1     0     0           1  \n",
       "253          0     0     0           0  \n",
       "344          0     1     0           0  \n",
       "428          0     0     0           0  \n",
       "460          0     0     0           0  \n",
       "469          0     0     0           0  \n",
       "495          0     0     1           0  "
      ]
     },
     "execution_count": 82,
     "metadata": {},
     "output_type": "execute_result"
    }
   ],
   "source": [
    "attributes = []\n",
    "for i in annotated_data.index:\n",
    "    row_attr = get_attributes(annotated_data.loc[i].TITLE)\n",
    "    attributes.append(row_attr)\n",
    "annotated_attributes = pd.DataFrame(attributes)\n",
    "annotated_attributes.columns = attr_names\n",
    "annotated_attributes.insert(0, 'TITLE', annotated_data.TITLE)\n",
    "annotated_attributes['smartphone'] = annotated_data.smartphone\n",
    "\n",
    "annotated_attributes.sample(10).sort_index()"
   ]
  },
  {
   "cell_type": "markdown",
   "metadata": {},
   "source": [
    "Aqui seria cabível uma análise de componentes principais ou análise de correspondência, mas por questões de tempo e simplicidade, deixei todas as colunas como estão."
   ]
  },
  {
   "cell_type": "markdown",
   "metadata": {},
   "source": [
    "# Avaliação de classificadores"
   ]
  },
  {
   "cell_type": "code",
   "execution_count": 83,
   "metadata": {},
   "outputs": [],
   "source": [
    "from sklearn.linear_model import Perceptron\n",
    "from sklearn.svm import SVC\n",
    "from sklearn.model_selection import cross_val_score\n",
    "\n",
    "from scipy.stats import ttest_ind"
   ]
  },
  {
   "cell_type": "markdown",
   "metadata": {},
   "source": [
    "Foi usada a área sob a curva ROC como medida de avaliação.  \n",
    "Nesse caso, pode ser interessante ajustar as taxas de falsos e verdadeiros positivos, \n",
    "logo a curva ROC é uma representação apropriada para a performance de um classificador."
   ]
  },
  {
   "cell_type": "markdown",
   "metadata": {},
   "source": [
    "Os classificadores testados foram o perceptron e a máquina de vetores de suporte com kernel polinomial de grau 3.  \n",
    "Os resultados foram comparados com um teste T pareado para amostras independentes."
   ]
  },
  {
   "cell_type": "code",
   "execution_count": 84,
   "metadata": {},
   "outputs": [],
   "source": [
    "perceptron = Perceptron(max_iter=1e3)\n",
    "svc = SVC(gamma='auto', kernel='poly', degree=3)\n",
    "\n",
    "def eval_model(X, y):\n",
    "    roc_auc_per = cross_val_score(\n",
    "        perceptron,\n",
    "        X,\n",
    "        y,\n",
    "        scoring='roc_auc',\n",
    "        cv=10\n",
    "    )\n",
    "    print('Perceptron:')\n",
    "    print(f'roc_auc: {np.mean(roc_auc_per):.2f} +- {np.std(roc_auc_per):.2f}\\t'\n",
    "         + f'min: {np.min(roc_auc_per):.2f}; max: {np.max(roc_auc_per):.2f}')\n",
    "    \n",
    "    roc_auc_svc = cross_val_score(\n",
    "        svc,\n",
    "        X,\n",
    "        y,\n",
    "        scoring='roc_auc',\n",
    "        cv=10\n",
    "    )\n",
    "    print('SVC (poly-3):')\n",
    "    print(f'roc_auc: {np.mean(roc_auc_svc):.2f} +- {np.std(roc_auc_svc):.2f}\\t'\n",
    "         + f'min: {np.min(roc_auc_svc):.2f}; max: {np.max(roc_auc_svc):.2f}')\n",
    "    \n",
    "    pvalue = ttest_ind(roc_auc_per, roc_auc_svc).pvalue\n",
    "    print('=====')\n",
    "    print(f'p-value: {pvalue:.3f} (5% de significância)')\n",
    "    if pvalue < 0.05:\n",
    "        print('Classificadores possuem performances diferentes')\n",
    "    else:\n",
    "        print('Não há evidência de diferença de performance')"
   ]
  },
  {
   "cell_type": "markdown",
   "metadata": {},
   "source": [
    "Foram feitos vários testes, com combinações diferentes das variáveis preditoras."
   ]
  },
  {
   "cell_type": "code",
   "execution_count": 85,
   "metadata": {},
   "outputs": [
    {
     "name": "stdout",
     "output_type": "stream",
     "text": [
      "Perceptron:\n",
      "roc_auc: 0.96 +- 0.03\tmin: 0.89; max: 0.99\n",
      "SVC (poly-3):\n",
      "roc_auc: 0.97 +- 0.02\tmin: 0.93; max: 0.99\n",
      "=====\n",
      "p-value: 0.625 (5% de significância)\n",
      "Não há evidência de diferença de performance\n"
     ]
    }
   ],
   "source": [
    "# Todas as variáveis preditoras\n",
    "eval_model(\n",
    "    annotated_attributes.iloc[:, 1:7].values,\n",
    "    annotated_attributes.iloc[:, 7].values\n",
    ")"
   ]
  },
  {
   "cell_type": "code",
   "execution_count": 86,
   "metadata": {},
   "outputs": [
    {
     "name": "stdout",
     "output_type": "stream",
     "text": [
      "Perceptron:\n",
      "roc_auc: 0.80 +- 0.06\tmin: 0.69; max: 0.87\n",
      "SVC (poly-3):\n",
      "roc_auc: 0.80 +- 0.06\tmin: 0.69; max: 0.87\n",
      "=====\n",
      "p-value: 0.991 (5% de significância)\n",
      "Não há evidência de diferença de performance\n"
     ]
    }
   ],
   "source": [
    "# Apenas \"smart\" e \"phone\"\n",
    "eval_model(\n",
    "    annotated_attributes.iloc[:, [1, 2]].values,\n",
    "    annotated_attributes.iloc[:, 7].values\n",
    ")"
   ]
  },
  {
   "cell_type": "code",
   "execution_count": 87,
   "metadata": {},
   "outputs": [
    {
     "name": "stdout",
     "output_type": "stream",
     "text": [
      "Perceptron:\n",
      "roc_auc: 0.92 +- 0.04\tmin: 0.84; max: 0.98\n",
      "SVC (poly-3):\n",
      "roc_auc: 0.89 +- 0.06\tmin: 0.76; max: 0.97\n",
      "=====\n",
      "p-value: 0.214 (5% de significância)\n",
      "Não há evidência de diferença de performance\n"
     ]
    }
   ],
   "source": [
    "# Todas exceto \"capa\" e \"para\"\n",
    "eval_model(\n",
    "    annotated_attributes.iloc[:, 1:5].values,\n",
    "    annotated_attributes.iloc[:, 7].values\n",
    ")"
   ]
  },
  {
   "cell_type": "code",
   "execution_count": 88,
   "metadata": {},
   "outputs": [
    {
     "name": "stdout",
     "output_type": "stream",
     "text": [
      "Perceptron:\n",
      "roc_auc: 0.89 +- 0.02\tmin: 0.87; max: 0.95\n",
      "SVC (poly-3):\n",
      "roc_auc: 0.89 +- 0.02\tmin: 0.86; max: 0.94\n",
      "=====\n",
      "p-value: 0.808 (5% de significância)\n",
      "Não há evidência de diferença de performance\n"
     ]
    }
   ],
   "source": [
    "# Todas exceto \"celular\" e \"letra_num\"\n",
    "eval_model(\n",
    "    annotated_attributes.iloc[:, [1, 2, 5, 6]].values,\n",
    "    annotated_attributes.iloc[:, 7].values\n",
    ")"
   ]
  },
  {
   "cell_type": "code",
   "execution_count": 89,
   "metadata": {},
   "outputs": [
    {
     "name": "stdout",
     "output_type": "stream",
     "text": [
      "Perceptron:\n",
      "roc_auc: 0.86 +- 0.05\tmin: 0.78; max: 0.95\n",
      "SVC (poly-3):\n",
      "roc_auc: 0.84 +- 0.05\tmin: 0.76; max: 0.93\n",
      "=====\n",
      "p-value: 0.577 (5% de significância)\n",
      "Não há evidência de diferença de performance\n"
     ]
    }
   ],
   "source": [
    "# Todas exceto \"smart\" e \"phone\"\n",
    "eval_model(\n",
    "    annotated_attributes.iloc[:, 3:7].values,\n",
    "    annotated_attributes.iloc[:, 7].values\n",
    ")"
   ]
  },
  {
   "cell_type": "markdown",
   "metadata": {},
   "source": [
    "## Seleção do classificador"
   ]
  },
  {
   "cell_type": "markdown",
   "metadata": {},
   "source": [
    "Em nenhum dos testes houve evidências para dizer que um dos classificadores teve performance melhor.  \n",
    "Logo, optei pela simplicidade do perceptron em frente ao SVC. Entre os motivos, há a menor chance de overfitting e menor tempo de treino."
   ]
  },
  {
   "cell_type": "markdown",
   "metadata": {},
   "source": [
    "# Transformação do dataset"
   ]
  },
  {
   "cell_type": "code",
   "execution_count": 90,
   "metadata": {},
   "outputs": [],
   "source": [
    "# TODO"
   ]
  }
 ],
 "metadata": {
  "kernelspec": {
   "display_name": "Python 3",
   "language": "python",
   "name": "python3"
  },
  "language_info": {
   "codemirror_mode": {
    "name": "ipython",
    "version": 3
   },
   "file_extension": ".py",
   "mimetype": "text/x-python",
   "name": "python",
   "nbconvert_exporter": "python",
   "pygments_lexer": "ipython3",
   "version": "3.6.6"
  }
 },
 "nbformat": 4,
 "nbformat_minor": 2
}
