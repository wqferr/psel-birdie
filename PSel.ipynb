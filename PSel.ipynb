{
 "cells": [
  {
   "cell_type": "markdown",
   "metadata": {},
   "source": [
    "O treinamento do modelo se deu sobre um subconjunto dos dados que foi anotado manualmente.  \n",
    "O conjunto anotado pode ser encontrado em `sample.csv`.\n",
    "\n",
    "A amostragem foi feita através do script `sample.py`."
   ]
  },
  {
   "cell_type": "code",
   "execution_count": null,
   "metadata": {},
   "outputs": [],
   "source": [
    "import numpy as np\n",
    "import pandas as pd\n",
    "import re\n",
    "\n",
    "import seaborn as sns\n",
    "from matplotlib import pyplot as plt\n",
    "\n",
    "%matplotlib inline"
   ]
  },
  {
   "cell_type": "code",
   "execution_count": null,
   "metadata": {},
   "outputs": [],
   "source": [
    "def stratified_sample(df, col, n_per_class):\n",
    "    return df.groupby(col, group_keys=False).apply(lambda x: x.sample(min(len(x), n_per_class)))"
   ]
  },
  {
   "cell_type": "code",
   "execution_count": null,
   "metadata": {},
   "outputs": [],
   "source": [
    "annotated_data = pd.read_csv('sample.csv')\n",
    "annotated_data.head()"
   ]
  },
  {
   "cell_type": "markdown",
   "metadata": {},
   "source": [
    "# Extração de features"
   ]
  },
  {
   "cell_type": "markdown",
   "metadata": {},
   "source": [
    "A extração de *features* foi feita através de expressões regulares:\n",
    "\n",
    "Se o título de uma instância corresponder a uma regex em qualquer ponto, associa-se o valor 1 ao atributo da referente à mesma.  \n",
    "Caso contrário, 0 é atribuído."
   ]
  },
  {
   "cell_type": "code",
   "execution_count": null,
   "metadata": {},
   "outputs": [],
   "source": [
    "patterns = [\n",
    "    r'smart', # contém \"smart\"\n",
    "    r'(?:ph|f)one', # contém \"fone\" ou \"phone\"\n",
    "    r'\\bcelular\\b', # contém a palavra \"celular\"\n",
    "    r'\\bbumper\\b', # contém a palavra \"bumper\"\n",
    "    r'\\b[a-z]\\d\\b', # contém, p.e., \"G5\", \"S9\", ...\n",
    "    r'\\bkit\\b', # contém a palavra \"kit\"\n",
    "    r'\\b(?:capa|case)\\b', # contém a palavra \"capa\" ou \"case\"\n",
    "    r'\\bpara\\b' # contém a palavra \"para\" (p.e. \"antena para celular\")\n",
    "]\n",
    "\n",
    "patterns_re = [re.compile(pat, re.IGNORECASE) for pat in patterns]\n",
    "\n",
    "# Usado para nomear as colunas do DataFrame\n",
    "attr_names = ['smart', 'phone', 'celular', 'bumper', 'letra_num', 'kit', 'capa', 'para']"
   ]
  },
  {
   "cell_type": "code",
   "execution_count": null,
   "metadata": {},
   "outputs": [],
   "source": [
    "# Transforma um título em uma lista de atributos\n",
    "def get_attributes(title):\n",
    "    title_attributes = []\n",
    "    for pattern in patterns_re:\n",
    "        if pattern.search(title) is None:\n",
    "            title_attributes.append(0)\n",
    "        else:\n",
    "            title_attributes.append(1)\n",
    "    return title_attributes"
   ]
  },
  {
   "cell_type": "markdown",
   "metadata": {},
   "source": [
    "## Transformação dos dados"
   ]
  },
  {
   "cell_type": "code",
   "execution_count": null,
   "metadata": {},
   "outputs": [],
   "source": [
    "# Transforma as linhas de um DataFrame nos atributos correspondentes ao título\n",
    "def get_row_attributes(dataframe):\n",
    "    attributes = []\n",
    "    for i in dataframe.index:\n",
    "        row_attr = get_attributes(dataframe.loc[i].TITLE)\n",
    "        attributes.append(row_attr)\n",
    "    attr_df = pd.DataFrame(attributes)\n",
    "    attr_df.columns = [f're_{re_name}' for re_name in attr_names]\n",
    "    attr_df.insert(0, 'TITLE', dataframe.TITLE)\n",
    "    return attr_df"
   ]
  },
  {
   "cell_type": "code",
   "execution_count": null,
   "metadata": {},
   "outputs": [],
   "source": [
    "annotated_attributes = get_row_attributes(annotated_data)\n",
    "annotated_attributes['SMARTPHONE'] = annotated_data.SMARTPHONE\n",
    "\n",
    "stratified_sample(annotated_attributes, 'SMARTPHONE', 5)"
   ]
  },
  {
   "cell_type": "code",
   "execution_count": null,
   "metadata": {},
   "outputs": [],
   "source": [
    "sns.heatmap(\n",
    "    pd.DataFrame(annotated_attributes.iloc[:, 1:].corr().iloc[:-1, -1]),\n",
    "    vmin=-1,\n",
    "    vmax=+1,\n",
    "    cmap=sns.color_palette('RdBu_r', 7))\n",
    "plt.title('Correlação dos atributos com a variável resposta')\n",
    "plt.show()"
   ]
  },
  {
   "cell_type": "markdown",
   "metadata": {},
   "source": [
    "`bumper` e `kit` apresentam uma correlação não existente ou muito pequena com a variável resposta, portanto optei por tirar essas variáveis para reduzir o número de dimensões do problema."
   ]
  },
  {
   "cell_type": "markdown",
   "metadata": {},
   "source": [
    "Incluí essas variáveis pois apareciam com certa frequência na amostra anotada, mas parece que não são frequentes ou influentes o bastante para ter uma participação significativa nos resultados."
   ]
  },
  {
   "cell_type": "code",
   "execution_count": null,
   "metadata": {},
   "outputs": [],
   "source": [
    "patterns = [\n",
    "    r'smart', # contém \"smart\"\n",
    "    r'(?:ph|f)one', # contém \"fone\" ou \"phone\"\n",
    "    r'\\bcelular\\b', # contém a palavra \"celular\"\n",
    "    # r'\\bbumper\\b', # contém a palavra \"bumper\"\n",
    "    r'\\b[a-z]\\d\\b', # contém, p.e., \"G5\", \"S9\", ...\n",
    "    # r'\\bkit\\b', # contém a palavra \"kit\"\n",
    "    r'\\b(?:capa|case)\\b', # contém a palavra \"capa\" ou \"case\"\n",
    "    r'\\bpara\\b' # contém a palavra \"para\" (p.e. \"antena para celular\")\n",
    "]\n",
    "\n",
    "patterns_re = [re.compile(pat, re.IGNORECASE) for pat in patterns]\n",
    "\n",
    "# Usado para nomear as colunas do DataFrame\n",
    "attr_names = ['smart', 'phone', 'celular', 'letra_num', 'capa', 'para']"
   ]
  },
  {
   "cell_type": "code",
   "execution_count": null,
   "metadata": {},
   "outputs": [],
   "source": [
    "annotated_attributes = get_row_attributes(annotated_data)\n",
    "annotated_attributes['SMARTPHONE'] = annotated_data.SMARTPHONE\n",
    "\n",
    "stratified_sample(annotated_attributes, 'SMARTPHONE', 5)"
   ]
  },
  {
   "cell_type": "code",
   "execution_count": null,
   "metadata": {},
   "outputs": [],
   "source": [
    "sns.heatmap(\n",
    "    pd.DataFrame(annotated_attributes.iloc[:, 1:].corr().iloc[:-1, -1]),\n",
    "    vmin=-1,\n",
    "    vmax=+1,\n",
    "    cmap=sns.color_palette('RdBu_r', 7))\n",
    "plt.title('Correlação dos atributos com a variável resposta')\n",
    "plt.show()"
   ]
  },
  {
   "cell_type": "markdown",
   "metadata": {},
   "source": [
    "Aqui seria cabível uma análise de componentes principais ou análise de correspondência, mas por questões de tempo e simplicidade, deixei as demais colunas como estão."
   ]
  },
  {
   "cell_type": "markdown",
   "metadata": {},
   "source": [
    "# Avaliação de classificadores"
   ]
  },
  {
   "cell_type": "code",
   "execution_count": null,
   "metadata": {},
   "outputs": [],
   "source": [
    "from sklearn.linear_model import Perceptron\n",
    "from sklearn.svm import SVC\n",
    "from sklearn.model_selection import cross_val_score\n",
    "\n",
    "from scipy.stats import ttest_ind"
   ]
  },
  {
   "cell_type": "markdown",
   "metadata": {},
   "source": [
    "Foi usada a área sob a curva ROC como medida de avaliação.  \n",
    "Nesse caso, pode ser interessante ajustar as taxas de falsos e verdadeiros positivos.\n",
    "\n",
    "Logo a curva ROC é uma representação apropriada para a performance de um classificador, pois sumariza a qualidade dos resultados do classificador sob um *threshold* bom."
   ]
  },
  {
   "cell_type": "markdown",
   "metadata": {},
   "source": [
    "Os classificadores testados foram o perceptron e a máquina de vetores de suporte com kernel polinomial de grau 3.  \n",
    "Os resultados foram comparados com um teste T pareado para amostras independentes."
   ]
  },
  {
   "cell_type": "code",
   "execution_count": null,
   "metadata": {},
   "outputs": [],
   "source": [
    "X = annotated_attributes.iloc[:, 1:-1].values\n",
    "y = annotated_attributes.iloc[:, -1].values"
   ]
  },
  {
   "cell_type": "code",
   "execution_count": null,
   "metadata": {},
   "outputs": [],
   "source": [
    "def eval_clf(clf):\n",
    "    roc_auc = cross_val_score(\n",
    "        clf,\n",
    "        X,\n",
    "        y,\n",
    "        scoring='roc_auc',\n",
    "        cv=10\n",
    "    )\n",
    "    print(f'roc_auc: {np.mean(roc_auc):.2f} +- {np.std(roc_auc):.2f}\\t'\n",
    "         + f'min: {np.min(roc_auc):.2f}; max: {np.max(roc_auc):.2f}')\n",
    "    return roc_auc"
   ]
  },
  {
   "cell_type": "code",
   "execution_count": null,
   "metadata": {},
   "outputs": [],
   "source": [
    "perceptron = Perceptron(max_iter=1e3)\n",
    "\n",
    "print('Perceptron:')\n",
    "roc_auc_per = eval_clf(perceptron)"
   ]
  },
  {
   "cell_type": "code",
   "execution_count": null,
   "metadata": {},
   "outputs": [],
   "source": [
    "svc = SVC(gamma='auto', kernel='poly', degree=3) # sem limite de iterações\n",
    "\n",
    "print('SVC (poly-3):')\n",
    "roc_auc_svc = eval_clf(svc)"
   ]
  },
  {
   "cell_type": "code",
   "execution_count": null,
   "metadata": {},
   "outputs": [],
   "source": [
    "pvalue = ttest_ind(roc_auc_per, roc_auc_svc).pvalue\n",
    "print(f'p-value: {pvalue:.3f} (5% de significância)')\n",
    "if pvalue < 0.05:\n",
    "    print('Há evidências de que os classificadores possuem performances diferentes')\n",
    "else:\n",
    "    print('Não há evidência de diferença de performance')"
   ]
  },
  {
   "cell_type": "markdown",
   "metadata": {},
   "source": [
    "## Seleção do classificador"
   ]
  },
  {
   "cell_type": "markdown",
   "metadata": {},
   "source": [
    "Não houve evidências para dizer que um dos classificadores teve performance melhor.  \n",
    "Logo, optei pela simplicidade do perceptron em detrimento do SVC.  \n",
    "Entre os benefícios de optar pelo modelo simples, há a chance reduzida de overfitting."
   ]
  },
  {
   "cell_type": "markdown",
   "metadata": {},
   "source": [
    "# Transformação do dataset"
   ]
  },
  {
   "cell_type": "markdown",
   "metadata": {},
   "source": [
    "## Treino do classificador escolhido"
   ]
  },
  {
   "cell_type": "code",
   "execution_count": null,
   "metadata": {},
   "outputs": [],
   "source": [
    "classifier = perceptron\n",
    "\n",
    "X = annotated_attributes.iloc[:, 1:-1].values\n",
    "y = annotated_attributes.iloc[:, -1].values\n",
    "classifier.fit(X, y)"
   ]
  },
  {
   "cell_type": "code",
   "execution_count": null,
   "metadata": {},
   "outputs": [],
   "source": [
    "data = pd.read_csv('data_estag_ds.tsv', sep='\\t')\n",
    "data.head()"
   ]
  },
  {
   "cell_type": "code",
   "execution_count": null,
   "metadata": {},
   "outputs": [],
   "source": [
    "data_attr = get_row_attributes(data)\n",
    "data_attr.head()"
   ]
  },
  {
   "cell_type": "code",
   "execution_count": null,
   "metadata": {},
   "outputs": [],
   "source": [
    "predictions = classifier.predict(data_attr.iloc[:, 1:].values)"
   ]
  },
  {
   "cell_type": "code",
   "execution_count": null,
   "metadata": {},
   "outputs": [],
   "source": [
    "answers = pd.DataFrame()\n",
    "answers['ID'] = data.ID\n",
    "answers['TITLE'] = data.TITLE\n",
    "answers['SMARTPHONE'] = pd.Series(predictions)"
   ]
  },
  {
   "cell_type": "code",
   "execution_count": null,
   "metadata": {},
   "outputs": [],
   "source": [
    "stratified_sample(answers, 'SMARTPHONE', 5)"
   ]
  },
  {
   "cell_type": "code",
   "execution_count": null,
   "metadata": {},
   "outputs": [],
   "source": [
    "answers.to_csv('output.tsv', sep='\\t', index=False)"
   ]
  }
 ],
 "metadata": {
  "kernelspec": {
   "display_name": "Python 3",
   "language": "python",
   "name": "python3"
  },
  "language_info": {
   "codemirror_mode": {
    "name": "ipython",
    "version": 3
   },
   "file_extension": ".py",
   "mimetype": "text/x-python",
   "name": "python",
   "nbconvert_exporter": "python",
   "pygments_lexer": "ipython3",
   "version": "3.6.6"
  }
 },
 "nbformat": 4,
 "nbformat_minor": 2
}
