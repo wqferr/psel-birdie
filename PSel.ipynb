{
 "cells": [
  {
   "cell_type": "markdown",
   "metadata": {},
   "source": [
    "O treinamento do modelo se deu sobre um subconjunto dos dados que foi anotado manualmente.  \n",
    "O conjunto anotado pode ser encontrado em `sample.csv`.\n",
    "\n",
    "A amostragem foi feita através do script `sample.py`."
   ]
  },
  {
   "cell_type": "code",
   "execution_count": 1,
   "metadata": {},
   "outputs": [],
   "source": [
    "import numpy as np\n",
    "import pandas as pd\n",
    "import re\n",
    "\n",
    "import seaborn as sns\n",
    "from matplotlib import pyplot as plt\n",
    "\n",
    "%matplotlib inline"
   ]
  },
  {
   "cell_type": "code",
   "execution_count": 2,
   "metadata": {},
   "outputs": [
    {
     "data": {
      "text/html": [
       "<div>\n",
       "<style scoped>\n",
       "    .dataframe tbody tr th:only-of-type {\n",
       "        vertical-align: middle;\n",
       "    }\n",
       "\n",
       "    .dataframe tbody tr th {\n",
       "        vertical-align: top;\n",
       "    }\n",
       "\n",
       "    .dataframe thead th {\n",
       "        text-align: right;\n",
       "    }\n",
       "</style>\n",
       "<table border=\"1\" class=\"dataframe\">\n",
       "  <thead>\n",
       "    <tr style=\"text-align: right;\">\n",
       "      <th></th>\n",
       "      <th>TITLE</th>\n",
       "      <th>smartphone</th>\n",
       "    </tr>\n",
       "  </thead>\n",
       "  <tbody>\n",
       "    <tr>\n",
       "      <th>0</th>\n",
       "      <td>Capa Samsung Galaxy S5 Mini Pc Couro Branco</td>\n",
       "      <td>0</td>\n",
       "    </tr>\n",
       "    <tr>\n",
       "      <th>1</th>\n",
       "      <td>Cabo Usb Retrátil  3 Adaptadores Preto - Muvit</td>\n",
       "      <td>0</td>\n",
       "    </tr>\n",
       "    <tr>\n",
       "      <th>2</th>\n",
       "      <td>Celular Samsung Galaxy A8 Plus 2018 Sm-a730f 6...</td>\n",
       "      <td>1</td>\n",
       "    </tr>\n",
       "    <tr>\n",
       "      <th>3</th>\n",
       "      <td>Lousa Magnética Grande Em Formato De Vaca Suelen</td>\n",
       "      <td>0</td>\n",
       "    </tr>\n",
       "    <tr>\n",
       "      <th>4</th>\n",
       "      <td>Aplique Madeira E Papel Placa Pinguim Com Colh...</td>\n",
       "      <td>0</td>\n",
       "    </tr>\n",
       "  </tbody>\n",
       "</table>\n",
       "</div>"
      ],
      "text/plain": [
       "                                               TITLE  smartphone\n",
       "0        Capa Samsung Galaxy S5 Mini Pc Couro Branco           0\n",
       "1     Cabo Usb Retrátil  3 Adaptadores Preto - Muvit           0\n",
       "2  Celular Samsung Galaxy A8 Plus 2018 Sm-a730f 6...           1\n",
       "3   Lousa Magnética Grande Em Formato De Vaca Suelen           0\n",
       "4  Aplique Madeira E Papel Placa Pinguim Com Colh...           0"
      ]
     },
     "execution_count": 2,
     "metadata": {},
     "output_type": "execute_result"
    }
   ],
   "source": [
    "annotated_data = pd.read_csv('sample.csv')\n",
    "annotated_data.head()"
   ]
  },
  {
   "cell_type": "markdown",
   "metadata": {},
   "source": [
    "# Extração de features"
   ]
  },
  {
   "cell_type": "markdown",
   "metadata": {},
   "source": [
    "A extração de *features* foi feita através de expressões regulares:\n",
    "\n",
    "Se o título de uma instância der match em uma regex em qualquer ponto, associa-se o valor 1 àquele atributo.  \n",
    "Caso contrário, é atribuído 0."
   ]
  },
  {
   "cell_type": "code",
   "execution_count": 7,
   "metadata": {},
   "outputs": [],
   "source": [
    "patterns_re = [\n",
    "    re.compile(r'smart', re.IGNORECASE), # contém \"smart\"\n",
    "    re.compile(r'(?:ph|f)one', re.IGNORECASE), # contém \"fone\" ou \"phone\"\n",
    "    re.compile(r'celular', re.IGNORECASE), # contém \"celular\"\n",
    "    re.compile(r'bumper', re.IGNORECASE), # contém \"bumper\"\n",
    "    re.compile(r'\\b[a-z]\\d\\b', re.IGNORECASE), # contém, p.e., \"G5\", \"S9\", ...\n",
    "    re.compile(r'\\bcapa\\b', re.IGNORECASE), # contém \"capa\"\n",
    "    re.compile(r'\\bpara\\b', re.IGNORECASE), # contém \"para\" (p.e. \"antena para celular\")\n",
    "]\n",
    "\n",
    "# Usado para nomear as colunas do DataFrame\n",
    "attr_names = ['smart', 'phone', 'celular', 'bumper', 'letra_num', 'capa', 'para']"
   ]
  },
  {
   "cell_type": "code",
   "execution_count": 8,
   "metadata": {},
   "outputs": [],
   "source": [
    "# Transforma um título em uma lista de atributos\n",
    "def get_attributes(title):\n",
    "    title_attributes = []\n",
    "    for pattern in patterns_re:\n",
    "        if pattern.search(title) is None:\n",
    "            title_attributes.append(0)\n",
    "        else:\n",
    "            title_attributes.append(1)\n",
    "    return title_attributes"
   ]
  },
  {
   "cell_type": "markdown",
   "metadata": {},
   "source": [
    "## Transformação dos dados"
   ]
  },
  {
   "cell_type": "code",
   "execution_count": 9,
   "metadata": {},
   "outputs": [],
   "source": [
    "def get_row_attributes(dataframe):\n",
    "    attributes = []\n",
    "    for i in dataframe.index:\n",
    "        row_attr = get_attributes(dataframe.loc[i].TITLE)\n",
    "        attributes.append(row_attr)\n",
    "    attr_df = pd.DataFrame(attributes)\n",
    "    attr_df.columns = attr_names\n",
    "    attr_df.insert(0, 'TITLE', dataframe.TITLE)\n",
    "    return attr_df"
   ]
  },
  {
   "cell_type": "code",
   "execution_count": 10,
   "metadata": {},
   "outputs": [
    {
     "data": {
      "text/html": [
       "<div>\n",
       "<style scoped>\n",
       "    .dataframe tbody tr th:only-of-type {\n",
       "        vertical-align: middle;\n",
       "    }\n",
       "\n",
       "    .dataframe tbody tr th {\n",
       "        vertical-align: top;\n",
       "    }\n",
       "\n",
       "    .dataframe thead th {\n",
       "        text-align: right;\n",
       "    }\n",
       "</style>\n",
       "<table border=\"1\" class=\"dataframe\">\n",
       "  <thead>\n",
       "    <tr style=\"text-align: right;\">\n",
       "      <th></th>\n",
       "      <th>TITLE</th>\n",
       "      <th>smart</th>\n",
       "      <th>phone</th>\n",
       "      <th>celular</th>\n",
       "      <th>bumper</th>\n",
       "      <th>letra_num</th>\n",
       "      <th>capa</th>\n",
       "      <th>para</th>\n",
       "      <th>smartphone</th>\n",
       "    </tr>\n",
       "  </thead>\n",
       "  <tbody>\n",
       "    <tr>\n",
       "      <th>0</th>\n",
       "      <td>Capa Samsung Galaxy S5 Mini Pc Couro Branco</td>\n",
       "      <td>0</td>\n",
       "      <td>0</td>\n",
       "      <td>0</td>\n",
       "      <td>0</td>\n",
       "      <td>1</td>\n",
       "      <td>1</td>\n",
       "      <td>0</td>\n",
       "      <td>0</td>\n",
       "    </tr>\n",
       "    <tr>\n",
       "      <th>4</th>\n",
       "      <td>Aplique Madeira E Papel Placa Pinguim Com Colh...</td>\n",
       "      <td>0</td>\n",
       "      <td>0</td>\n",
       "      <td>0</td>\n",
       "      <td>0</td>\n",
       "      <td>0</td>\n",
       "      <td>0</td>\n",
       "      <td>0</td>\n",
       "      <td>0</td>\n",
       "    </tr>\n",
       "    <tr>\n",
       "      <th>8</th>\n",
       "      <td>Estribos Siligel Para Dedos Em Garra Com Alça ...</td>\n",
       "      <td>0</td>\n",
       "      <td>0</td>\n",
       "      <td>0</td>\n",
       "      <td>0</td>\n",
       "      <td>0</td>\n",
       "      <td>0</td>\n",
       "      <td>1</td>\n",
       "      <td>0</td>\n",
       "    </tr>\n",
       "    <tr>\n",
       "      <th>10</th>\n",
       "      <td>Capa Transparente E Película Underbody Iphone 5</td>\n",
       "      <td>0</td>\n",
       "      <td>1</td>\n",
       "      <td>0</td>\n",
       "      <td>0</td>\n",
       "      <td>0</td>\n",
       "      <td>1</td>\n",
       "      <td>0</td>\n",
       "      <td>0</td>\n",
       "    </tr>\n",
       "    <tr>\n",
       "      <th>88</th>\n",
       "      <td>Fonte Carregador Ibm Lenovo Thinkpad X60 X60s ...</td>\n",
       "      <td>0</td>\n",
       "      <td>0</td>\n",
       "      <td>0</td>\n",
       "      <td>0</td>\n",
       "      <td>0</td>\n",
       "      <td>0</td>\n",
       "      <td>0</td>\n",
       "      <td>0</td>\n",
       "    </tr>\n",
       "    <tr>\n",
       "      <th>104</th>\n",
       "      <td>Boneca Nolly Fala 60 Frases 32cm 124 - Super Toys</td>\n",
       "      <td>0</td>\n",
       "      <td>0</td>\n",
       "      <td>0</td>\n",
       "      <td>0</td>\n",
       "      <td>0</td>\n",
       "      <td>0</td>\n",
       "      <td>0</td>\n",
       "      <td>0</td>\n",
       "    </tr>\n",
       "    <tr>\n",
       "      <th>120</th>\n",
       "      <td>Kit Capapelicula Iphone 4/4s Pc Bandeira Paise...</td>\n",
       "      <td>0</td>\n",
       "      <td>1</td>\n",
       "      <td>0</td>\n",
       "      <td>0</td>\n",
       "      <td>0</td>\n",
       "      <td>0</td>\n",
       "      <td>0</td>\n",
       "      <td>0</td>\n",
       "    </tr>\n",
       "    <tr>\n",
       "      <th>338</th>\n",
       "      <td>Álbum para Scrap Momentos - Pequeno Marfim e K...</td>\n",
       "      <td>0</td>\n",
       "      <td>0</td>\n",
       "      <td>0</td>\n",
       "      <td>0</td>\n",
       "      <td>0</td>\n",
       "      <td>0</td>\n",
       "      <td>1</td>\n",
       "      <td>0</td>\n",
       "    </tr>\n",
       "    <tr>\n",
       "      <th>395</th>\n",
       "      <td>Celular Xiaomi Redmi Note 4 64gb 5.5</td>\n",
       "      <td>0</td>\n",
       "      <td>0</td>\n",
       "      <td>1</td>\n",
       "      <td>0</td>\n",
       "      <td>0</td>\n",
       "      <td>0</td>\n",
       "      <td>0</td>\n",
       "      <td>1</td>\n",
       "    </tr>\n",
       "    <tr>\n",
       "      <th>470</th>\n",
       "      <td>iPhone 8 Plus Apple RED Special Edition 64GB T...</td>\n",
       "      <td>0</td>\n",
       "      <td>1</td>\n",
       "      <td>0</td>\n",
       "      <td>0</td>\n",
       "      <td>0</td>\n",
       "      <td>0</td>\n",
       "      <td>0</td>\n",
       "      <td>1</td>\n",
       "    </tr>\n",
       "  </tbody>\n",
       "</table>\n",
       "</div>"
      ],
      "text/plain": [
       "                                                 TITLE  smart  phone  celular  \\\n",
       "0          Capa Samsung Galaxy S5 Mini Pc Couro Branco      0      0        0   \n",
       "4    Aplique Madeira E Papel Placa Pinguim Com Colh...      0      0        0   \n",
       "8    Estribos Siligel Para Dedos Em Garra Com Alça ...      0      0        0   \n",
       "10     Capa Transparente E Película Underbody Iphone 5      0      1        0   \n",
       "88   Fonte Carregador Ibm Lenovo Thinkpad X60 X60s ...      0      0        0   \n",
       "104  Boneca Nolly Fala 60 Frases 32cm 124 - Super Toys      0      0        0   \n",
       "120  Kit Capapelicula Iphone 4/4s Pc Bandeira Paise...      0      1        0   \n",
       "338  Álbum para Scrap Momentos - Pequeno Marfim e K...      0      0        0   \n",
       "395               Celular Xiaomi Redmi Note 4 64gb 5.5      0      0        1   \n",
       "470  iPhone 8 Plus Apple RED Special Edition 64GB T...      0      1        0   \n",
       "\n",
       "     bumper  letra_num  capa  para  smartphone  \n",
       "0         0          1     1     0           0  \n",
       "4         0          0     0     0           0  \n",
       "8         0          0     0     1           0  \n",
       "10        0          0     1     0           0  \n",
       "88        0          0     0     0           0  \n",
       "104       0          0     0     0           0  \n",
       "120       0          0     0     0           0  \n",
       "338       0          0     0     1           0  \n",
       "395       0          0     0     0           1  \n",
       "470       0          0     0     0           1  "
      ]
     },
     "execution_count": 10,
     "metadata": {},
     "output_type": "execute_result"
    }
   ],
   "source": [
    "annotated_attributes = get_row_attributes(annotated_data)\n",
    "annotated_attributes['smartphone'] = annotated_data.smartphone\n",
    "\n",
    "annotated_attributes.sample(10).sort_index()"
   ]
  },
  {
   "cell_type": "markdown",
   "metadata": {},
   "source": [
    "Aqui seria cabível uma análise de componentes principais ou análise de correspondência, mas por questões de tempo e simplicidade, deixei todas as colunas como estão."
   ]
  },
  {
   "cell_type": "markdown",
   "metadata": {},
   "source": [
    "# Avaliação de classificadores"
   ]
  },
  {
   "cell_type": "code",
   "execution_count": 11,
   "metadata": {},
   "outputs": [],
   "source": [
    "from sklearn.linear_model import Perceptron\n",
    "from sklearn.svm import SVC\n",
    "from sklearn.model_selection import cross_val_score\n",
    "\n",
    "from scipy.stats import ttest_ind"
   ]
  },
  {
   "cell_type": "markdown",
   "metadata": {},
   "source": [
    "Foi usada a área sob a curva ROC como medida de avaliação.  \n",
    "Nesse caso, pode ser interessante ajustar as taxas de falsos e verdadeiros positivos, \n",
    "logo a curva ROC é uma representação apropriada para a performance de um classificador."
   ]
  },
  {
   "cell_type": "markdown",
   "metadata": {},
   "source": [
    "Os classificadores testados foram o perceptron e a máquina de vetores de suporte com kernel polinomial de grau 3.  \n",
    "Os resultados foram comparados com um teste T pareado para amostras independentes."
   ]
  },
  {
   "cell_type": "code",
   "execution_count": 12,
   "metadata": {},
   "outputs": [],
   "source": [
    "perceptron = Perceptron(max_iter=1e3)\n",
    "svc = SVC(gamma='auto', kernel='poly', degree=3)\n",
    "\n",
    "def eval_model(X, y):\n",
    "    roc_auc_per = cross_val_score(\n",
    "        perceptron,\n",
    "        X,\n",
    "        y,\n",
    "        scoring='roc_auc',\n",
    "        cv=10\n",
    "    )\n",
    "    print('Perceptron:')\n",
    "    print(f'roc_auc: {np.mean(roc_auc_per):.2f} +- {np.std(roc_auc_per):.2f}\\t'\n",
    "         + f'min: {np.min(roc_auc_per):.2f}; max: {np.max(roc_auc_per):.2f}')\n",
    "    \n",
    "    roc_auc_svc = cross_val_score(\n",
    "        svc,\n",
    "        X,\n",
    "        y,\n",
    "        scoring='roc_auc',\n",
    "        cv=10\n",
    "    )\n",
    "    print('SVC (poly-3):')\n",
    "    print(f'roc_auc: {np.mean(roc_auc_svc):.2f} +- {np.std(roc_auc_svc):.2f}\\t'\n",
    "         + f'min: {np.min(roc_auc_svc):.2f}; max: {np.max(roc_auc_svc):.2f}')\n",
    "    \n",
    "    pvalue = ttest_ind(roc_auc_per, roc_auc_svc).pvalue\n",
    "    print('=====')\n",
    "    print(f'p-value: {pvalue:.3f} (5% de significância)')\n",
    "    if pvalue < 0.05:\n",
    "        print('Classificadores possuem performances diferentes')\n",
    "    else:\n",
    "        print('Não há evidência de diferença de performance')"
   ]
  },
  {
   "cell_type": "code",
   "execution_count": 13,
   "metadata": {},
   "outputs": [
    {
     "name": "stdout",
     "output_type": "stream",
     "text": [
      "Perceptron:\n",
      "roc_auc: 0.97 +- 0.02\tmin: 0.93; max: 1.00\n",
      "SVC (poly-3):\n",
      "roc_auc: 0.97 +- 0.02\tmin: 0.94; max: 0.99\n",
      "=====\n",
      "p-value: 0.876 (5% de significância)\n",
      "Não há evidência de diferença de performance\n"
     ]
    }
   ],
   "source": [
    "# Todas as variáveis preditoras\n",
    "eval_model(\n",
    "    annotated_attributes.iloc[:, 1:-1].values,\n",
    "    annotated_attributes.iloc[:, -1].values\n",
    ")"
   ]
  },
  {
   "cell_type": "markdown",
   "metadata": {},
   "source": [
    "## Seleção do classificador"
   ]
  },
  {
   "cell_type": "markdown",
   "metadata": {},
   "source": [
    "Em nenhum dos testes houve evidências para dizer que um dos classificadores teve performance melhor.  \n",
    "Logo, optei pela simplicidade do perceptron em frente ao SVC. Entre os benefícios de optar pelo modelo simples, há a menor chance de overfitting e menor tempo de treino."
   ]
  },
  {
   "cell_type": "markdown",
   "metadata": {},
   "source": [
    "# Transformação do dataset"
   ]
  },
  {
   "cell_type": "markdown",
   "metadata": {},
   "source": [
    "## Treino do classificador escolhido"
   ]
  },
  {
   "cell_type": "code",
   "execution_count": 18,
   "metadata": {},
   "outputs": [
    {
     "data": {
      "text/plain": [
       "Perceptron(alpha=0.0001, class_weight=None, early_stopping=False, eta0=1.0,\n",
       "      fit_intercept=True, max_iter=1000.0, n_iter=None, n_iter_no_change=5,\n",
       "      n_jobs=None, penalty=None, random_state=0, shuffle=True, tol=None,\n",
       "      validation_fraction=0.1, verbose=0, warm_start=False)"
      ]
     },
     "execution_count": 18,
     "metadata": {},
     "output_type": "execute_result"
    }
   ],
   "source": [
    "classifier = Perceptron(max_iter=1e3)\n",
    "X = annotated_attributes.iloc[:, 1:-1].values\n",
    "y = annotated_attributes.iloc[:, -1].values\n",
    "classifier.fit(X, y)"
   ]
  },
  {
   "cell_type": "code",
   "execution_count": 19,
   "metadata": {},
   "outputs": [
    {
     "data": {
      "text/html": [
       "<div>\n",
       "<style scoped>\n",
       "    .dataframe tbody tr th:only-of-type {\n",
       "        vertical-align: middle;\n",
       "    }\n",
       "\n",
       "    .dataframe tbody tr th {\n",
       "        vertical-align: top;\n",
       "    }\n",
       "\n",
       "    .dataframe thead th {\n",
       "        text-align: right;\n",
       "    }\n",
       "</style>\n",
       "<table border=\"1\" class=\"dataframe\">\n",
       "  <thead>\n",
       "    <tr style=\"text-align: right;\">\n",
       "      <th></th>\n",
       "      <th>ID</th>\n",
       "      <th>TITLE</th>\n",
       "    </tr>\n",
       "  </thead>\n",
       "  <tbody>\n",
       "    <tr>\n",
       "      <th>0</th>\n",
       "      <td>1041354</td>\n",
       "      <td>Acessório T - Jean Bag For Girls para DS Lite</td>\n",
       "    </tr>\n",
       "    <tr>\n",
       "      <th>1</th>\n",
       "      <td>1041782</td>\n",
       "      <td>Carrinho de Bebê Berço-Passeio - Pegasus Pink ...</td>\n",
       "    </tr>\n",
       "    <tr>\n",
       "      <th>2</th>\n",
       "      <td>1041834</td>\n",
       "      <td>Carrinho de Bebê para Gêmeos Berço-Passeio - T...</td>\n",
       "    </tr>\n",
       "    <tr>\n",
       "      <th>3</th>\n",
       "      <td>1042568</td>\n",
       "      <td>Car Center - Calesita</td>\n",
       "    </tr>\n",
       "    <tr>\n",
       "      <th>4</th>\n",
       "      <td>1042584</td>\n",
       "      <td>Donka Trem com Som - Calesita</td>\n",
       "    </tr>\n",
       "  </tbody>\n",
       "</table>\n",
       "</div>"
      ],
      "text/plain": [
       "        ID                                              TITLE\n",
       "0  1041354      Acessório T - Jean Bag For Girls para DS Lite\n",
       "1  1041782  Carrinho de Bebê Berço-Passeio - Pegasus Pink ...\n",
       "2  1041834  Carrinho de Bebê para Gêmeos Berço-Passeio - T...\n",
       "3  1042568                              Car Center - Calesita\n",
       "4  1042584                      Donka Trem com Som - Calesita"
      ]
     },
     "execution_count": 19,
     "metadata": {},
     "output_type": "execute_result"
    }
   ],
   "source": [
    "data = pd.read_csv('data_estag_ds.tsv', sep='\\t')\n",
    "data.head()"
   ]
  },
  {
   "cell_type": "code",
   "execution_count": 20,
   "metadata": {},
   "outputs": [
    {
     "data": {
      "text/html": [
       "<div>\n",
       "<style scoped>\n",
       "    .dataframe tbody tr th:only-of-type {\n",
       "        vertical-align: middle;\n",
       "    }\n",
       "\n",
       "    .dataframe tbody tr th {\n",
       "        vertical-align: top;\n",
       "    }\n",
       "\n",
       "    .dataframe thead th {\n",
       "        text-align: right;\n",
       "    }\n",
       "</style>\n",
       "<table border=\"1\" class=\"dataframe\">\n",
       "  <thead>\n",
       "    <tr style=\"text-align: right;\">\n",
       "      <th></th>\n",
       "      <th>TITLE</th>\n",
       "      <th>smart</th>\n",
       "      <th>phone</th>\n",
       "      <th>celular</th>\n",
       "      <th>bumper</th>\n",
       "      <th>letra_num</th>\n",
       "      <th>capa</th>\n",
       "      <th>para</th>\n",
       "    </tr>\n",
       "  </thead>\n",
       "  <tbody>\n",
       "    <tr>\n",
       "      <th>0</th>\n",
       "      <td>Acessório T - Jean Bag For Girls para DS Lite</td>\n",
       "      <td>0</td>\n",
       "      <td>0</td>\n",
       "      <td>0</td>\n",
       "      <td>0</td>\n",
       "      <td>0</td>\n",
       "      <td>0</td>\n",
       "      <td>1</td>\n",
       "    </tr>\n",
       "    <tr>\n",
       "      <th>1</th>\n",
       "      <td>Carrinho de Bebê Berço-Passeio - Pegasus Pink ...</td>\n",
       "      <td>0</td>\n",
       "      <td>0</td>\n",
       "      <td>0</td>\n",
       "      <td>0</td>\n",
       "      <td>0</td>\n",
       "      <td>0</td>\n",
       "      <td>0</td>\n",
       "    </tr>\n",
       "    <tr>\n",
       "      <th>2</th>\n",
       "      <td>Carrinho de Bebê para Gêmeos Berço-Passeio - T...</td>\n",
       "      <td>0</td>\n",
       "      <td>0</td>\n",
       "      <td>0</td>\n",
       "      <td>0</td>\n",
       "      <td>0</td>\n",
       "      <td>0</td>\n",
       "      <td>1</td>\n",
       "    </tr>\n",
       "    <tr>\n",
       "      <th>3</th>\n",
       "      <td>Car Center - Calesita</td>\n",
       "      <td>0</td>\n",
       "      <td>0</td>\n",
       "      <td>0</td>\n",
       "      <td>0</td>\n",
       "      <td>0</td>\n",
       "      <td>0</td>\n",
       "      <td>0</td>\n",
       "    </tr>\n",
       "    <tr>\n",
       "      <th>4</th>\n",
       "      <td>Donka Trem com Som - Calesita</td>\n",
       "      <td>0</td>\n",
       "      <td>0</td>\n",
       "      <td>0</td>\n",
       "      <td>0</td>\n",
       "      <td>0</td>\n",
       "      <td>0</td>\n",
       "      <td>0</td>\n",
       "    </tr>\n",
       "  </tbody>\n",
       "</table>\n",
       "</div>"
      ],
      "text/plain": [
       "                                               TITLE  smart  phone  celular  \\\n",
       "0      Acessório T - Jean Bag For Girls para DS Lite      0      0        0   \n",
       "1  Carrinho de Bebê Berço-Passeio - Pegasus Pink ...      0      0        0   \n",
       "2  Carrinho de Bebê para Gêmeos Berço-Passeio - T...      0      0        0   \n",
       "3                              Car Center - Calesita      0      0        0   \n",
       "4                      Donka Trem com Som - Calesita      0      0        0   \n",
       "\n",
       "   bumper  letra_num  capa  para  \n",
       "0       0          0     0     1  \n",
       "1       0          0     0     0  \n",
       "2       0          0     0     1  \n",
       "3       0          0     0     0  \n",
       "4       0          0     0     0  "
      ]
     },
     "execution_count": 20,
     "metadata": {},
     "output_type": "execute_result"
    }
   ],
   "source": [
    "data_attr = get_row_attributes(data)\n",
    "data_attr.head()"
   ]
  },
  {
   "cell_type": "code",
   "execution_count": 21,
   "metadata": {},
   "outputs": [],
   "source": [
    "predictions = classifier.predict(data_attr.iloc[:, 1:].values)"
   ]
  },
  {
   "cell_type": "code",
   "execution_count": 22,
   "metadata": {},
   "outputs": [],
   "source": [
    "answers = pd.DataFrame()\n",
    "answers['ID'] = data.ID\n",
    "answers['TITLE'] = data.TITLE\n",
    "answers['SMARTPHONE'] = pd.Series(predictions)"
   ]
  },
  {
   "cell_type": "code",
   "execution_count": 29,
   "metadata": {},
   "outputs": [
    {
     "data": {
      "text/html": [
       "<div>\n",
       "<style scoped>\n",
       "    .dataframe tbody tr th:only-of-type {\n",
       "        vertical-align: middle;\n",
       "    }\n",
       "\n",
       "    .dataframe tbody tr th {\n",
       "        vertical-align: top;\n",
       "    }\n",
       "\n",
       "    .dataframe thead th {\n",
       "        text-align: right;\n",
       "    }\n",
       "</style>\n",
       "<table border=\"1\" class=\"dataframe\">\n",
       "  <thead>\n",
       "    <tr style=\"text-align: right;\">\n",
       "      <th></th>\n",
       "      <th>ID</th>\n",
       "      <th>TITLE</th>\n",
       "      <th>SMARTPHONE</th>\n",
       "    </tr>\n",
       "  </thead>\n",
       "  <tbody>\n",
       "    <tr>\n",
       "      <th>87</th>\n",
       "      <td>10157261</td>\n",
       "      <td>Pulseira Masculina Couro E Simbolo Infinito Ou...</td>\n",
       "      <td>0</td>\n",
       "    </tr>\n",
       "    <tr>\n",
       "      <th>472</th>\n",
       "      <td>10438215</td>\n",
       "      <td>Película Para Iphone 6 Plus De Vidro Temperado...</td>\n",
       "      <td>0</td>\n",
       "    </tr>\n",
       "    <tr>\n",
       "      <th>737</th>\n",
       "      <td>10511906</td>\n",
       "      <td>Batom Vult cor 31</td>\n",
       "      <td>0</td>\n",
       "    </tr>\n",
       "    <tr>\n",
       "      <th>804</th>\n",
       "      <td>10529884</td>\n",
       "      <td>Capa Samsung Galaxy Win Duos I8552 Rosa</td>\n",
       "      <td>0</td>\n",
       "    </tr>\n",
       "    <tr>\n",
       "      <th>1055</th>\n",
       "      <td>10570419</td>\n",
       "      <td>Aplique Madeira e Papel Placa Letra G Menina L...</td>\n",
       "      <td>0</td>\n",
       "    </tr>\n",
       "    <tr>\n",
       "      <th>1110</th>\n",
       "      <td>10578027</td>\n",
       "      <td>Película De Vidro Ultra Temperado Para Samsung...</td>\n",
       "      <td>0</td>\n",
       "    </tr>\n",
       "    <tr>\n",
       "      <th>1810</th>\n",
       "      <td>10648206</td>\n",
       "      <td>Encosto Ortopédico Bio Coluna Ac-010 Orthopauher</td>\n",
       "      <td>0</td>\n",
       "    </tr>\n",
       "    <tr>\n",
       "      <th>1973</th>\n",
       "      <td>10664443</td>\n",
       "      <td>Fonte Carregador Ibm Lenovo Thinkpad R61 R61e ...</td>\n",
       "      <td>0</td>\n",
       "    </tr>\n",
       "    <tr>\n",
       "      <th>2094</th>\n",
       "      <td>11822388</td>\n",
       "      <td>Smartphone Asus Zenfone 4 ZE554KL Verde com 64...</td>\n",
       "      <td>1</td>\n",
       "    </tr>\n",
       "    <tr>\n",
       "      <th>2408</th>\n",
       "      <td>1050993172</td>\n",
       "      <td>Celular Samsung Galaxy J7 Prime 2 32gb  + Tv D...</td>\n",
       "      <td>1</td>\n",
       "    </tr>\n",
       "  </tbody>\n",
       "</table>\n",
       "</div>"
      ],
      "text/plain": [
       "              ID                                              TITLE  \\\n",
       "87      10157261  Pulseira Masculina Couro E Simbolo Infinito Ou...   \n",
       "472     10438215  Película Para Iphone 6 Plus De Vidro Temperado...   \n",
       "737     10511906                                  Batom Vult cor 31   \n",
       "804     10529884            Capa Samsung Galaxy Win Duos I8552 Rosa   \n",
       "1055    10570419  Aplique Madeira e Papel Placa Letra G Menina L...   \n",
       "1110    10578027  Película De Vidro Ultra Temperado Para Samsung...   \n",
       "1810    10648206   Encosto Ortopédico Bio Coluna Ac-010 Orthopauher   \n",
       "1973    10664443  Fonte Carregador Ibm Lenovo Thinkpad R61 R61e ...   \n",
       "2094    11822388  Smartphone Asus Zenfone 4 ZE554KL Verde com 64...   \n",
       "2408  1050993172  Celular Samsung Galaxy J7 Prime 2 32gb  + Tv D...   \n",
       "\n",
       "      SMARTPHONE  \n",
       "87             0  \n",
       "472            0  \n",
       "737            0  \n",
       "804            0  \n",
       "1055           0  \n",
       "1110           0  \n",
       "1810           0  \n",
       "1973           0  \n",
       "2094           1  \n",
       "2408           1  "
      ]
     },
     "execution_count": 29,
     "metadata": {},
     "output_type": "execute_result"
    }
   ],
   "source": [
    "answers.sample(10).sort_index()"
   ]
  },
  {
   "cell_type": "code",
   "execution_count": 24,
   "metadata": {},
   "outputs": [],
   "source": [
    "answers.to_csv('output.tsv', sep='\\t', index=False)"
   ]
  }
 ],
 "metadata": {
  "kernelspec": {
   "display_name": "Python 3",
   "language": "python",
   "name": "python3"
  },
  "language_info": {
   "codemirror_mode": {
    "name": "ipython",
    "version": 3
   },
   "file_extension": ".py",
   "mimetype": "text/x-python",
   "name": "python",
   "nbconvert_exporter": "python",
   "pygments_lexer": "ipython3",
   "version": "3.6.6"
  }
 },
 "nbformat": 4,
 "nbformat_minor": 2
}
