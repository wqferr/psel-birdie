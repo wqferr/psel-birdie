{
 "cells": [
  {
   "cell_type": "markdown",
   "metadata": {},
   "source": [
    "O treinamento do modelo se deu sobre um subconjunto dos dados que foi anotado manualmente.  \n",
    "O conjunto anotado pode ser encontrado em `sample.csv`.\n",
    "\n",
    "A amostragem foi feita através do script `sample.py`."
   ]
  },
  {
   "cell_type": "code",
   "execution_count": 1,
   "metadata": {},
   "outputs": [],
   "source": [
    "import numpy as np\n",
    "import pandas as pd\n",
    "import re\n",
    "\n",
    "import seaborn as sns\n",
    "from matplotlib import pyplot as plt\n",
    "\n",
    "%matplotlib inline"
   ]
  },
  {
   "cell_type": "code",
   "execution_count": 2,
   "metadata": {},
   "outputs": [],
   "source": [
    "def stratified_sample(df, col, n_per_class):\n",
    "    return df.groupby(col, group_keys=False).apply(lambda x: x.sample(min(len(x), n_per_class)))"
   ]
  },
  {
   "cell_type": "code",
   "execution_count": 3,
   "metadata": {},
   "outputs": [
    {
     "data": {
      "text/html": [
       "<div>\n",
       "<style scoped>\n",
       "    .dataframe tbody tr th:only-of-type {\n",
       "        vertical-align: middle;\n",
       "    }\n",
       "\n",
       "    .dataframe tbody tr th {\n",
       "        vertical-align: top;\n",
       "    }\n",
       "\n",
       "    .dataframe thead th {\n",
       "        text-align: right;\n",
       "    }\n",
       "</style>\n",
       "<table border=\"1\" class=\"dataframe\">\n",
       "  <thead>\n",
       "    <tr style=\"text-align: right;\">\n",
       "      <th></th>\n",
       "      <th>TITLE</th>\n",
       "      <th>SMARTPHONE</th>\n",
       "    </tr>\n",
       "  </thead>\n",
       "  <tbody>\n",
       "    <tr>\n",
       "      <th>0</th>\n",
       "      <td>Capa Samsung Galaxy S5 Mini Pc Couro Branco</td>\n",
       "      <td>0</td>\n",
       "    </tr>\n",
       "    <tr>\n",
       "      <th>1</th>\n",
       "      <td>Cabo Usb Retrátil  3 Adaptadores Preto - Muvit</td>\n",
       "      <td>0</td>\n",
       "    </tr>\n",
       "    <tr>\n",
       "      <th>2</th>\n",
       "      <td>Celular Samsung Galaxy A8 Plus 2018 Sm-a730f 6...</td>\n",
       "      <td>1</td>\n",
       "    </tr>\n",
       "    <tr>\n",
       "      <th>3</th>\n",
       "      <td>Lousa Magnética Grande Em Formato De Vaca Suelen</td>\n",
       "      <td>0</td>\n",
       "    </tr>\n",
       "    <tr>\n",
       "      <th>4</th>\n",
       "      <td>Aplique Madeira E Papel Placa Pinguim Com Colh...</td>\n",
       "      <td>0</td>\n",
       "    </tr>\n",
       "  </tbody>\n",
       "</table>\n",
       "</div>"
      ],
      "text/plain": [
       "                                               TITLE  SMARTPHONE\n",
       "0        Capa Samsung Galaxy S5 Mini Pc Couro Branco           0\n",
       "1     Cabo Usb Retrátil  3 Adaptadores Preto - Muvit           0\n",
       "2  Celular Samsung Galaxy A8 Plus 2018 Sm-a730f 6...           1\n",
       "3   Lousa Magnética Grande Em Formato De Vaca Suelen           0\n",
       "4  Aplique Madeira E Papel Placa Pinguim Com Colh...           0"
      ]
     },
     "execution_count": 3,
     "metadata": {},
     "output_type": "execute_result"
    }
   ],
   "source": [
    "annotated_data = pd.read_csv('sample.csv')\n",
    "annotated_data.head()"
   ]
  },
  {
   "cell_type": "markdown",
   "metadata": {},
   "source": [
    "# Extração de features"
   ]
  },
  {
   "cell_type": "markdown",
   "metadata": {},
   "source": [
    "A extração de *features* foi feita através de expressões regulares:\n",
    "\n",
    "Se o título de uma instância corresponder a uma regex em qualquer ponto, associa-se o valor 1 ao atributo da referente à mesma.  \n",
    "Caso contrário, 0 é atribuído."
   ]
  },
  {
   "cell_type": "code",
   "execution_count": 4,
   "metadata": {},
   "outputs": [],
   "source": [
    "patterns = [\n",
    "    r'smart', # contém \"smart\"\n",
    "    r'(?:ph|f)one', # contém \"fone\" ou \"phone\"\n",
    "    r'\\bcelular\\b', # contém a palavra \"celular\"\n",
    "    r'\\bbumper\\b', # contém a palavra \"bumper\"\n",
    "    r'\\b[a-z]\\d\\b', # contém, p.e., \"G5\", \"S9\", ...\n",
    "    r'\\bkit\\b', # contém a palavra \"kit\"\n",
    "    r'\\b(?:capa|case)\\b', # contém a palavra \"capa\" ou \"case\"\n",
    "    r'\\bpara\\b' # contém a palavra \"para\" (p.e. \"antena para celular\")\n",
    "]\n",
    "\n",
    "patterns_re = [re.compile(pat, re.IGNORECASE) for pat in patterns]\n",
    "\n",
    "# Usado para nomear as colunas do DataFrame\n",
    "attr_names = ['smart', 'phone', 'celular', 'bumper', 'letra_num', 'kit', 'capa', 'para']"
   ]
  },
  {
   "cell_type": "code",
   "execution_count": 5,
   "metadata": {},
   "outputs": [],
   "source": [
    "# Transforma um título em uma lista de atributos\n",
    "def get_attributes(title):\n",
    "    title_attributes = []\n",
    "    for pattern in patterns_re:\n",
    "        if pattern.search(title) is None:\n",
    "            title_attributes.append(0)\n",
    "        else:\n",
    "            title_attributes.append(1)\n",
    "    return title_attributes"
   ]
  },
  {
   "cell_type": "markdown",
   "metadata": {},
   "source": [
    "## Transformação dos dados"
   ]
  },
  {
   "cell_type": "code",
   "execution_count": 6,
   "metadata": {},
   "outputs": [],
   "source": [
    "# Transforma as linhas de um DataFrame nos atributos correspondentes ao título\n",
    "def get_row_attributes(dataframe):\n",
    "    attributes = []\n",
    "    for i in dataframe.index:\n",
    "        row_attr = get_attributes(dataframe.loc[i].TITLE)\n",
    "        attributes.append(row_attr)\n",
    "    attr_df = pd.DataFrame(attributes)\n",
    "    attr_df.columns = [f're_{re_name}' for re_name in attr_names]\n",
    "    attr_df.insert(0, 'TITLE', dataframe.TITLE)\n",
    "    return attr_df"
   ]
  },
  {
   "cell_type": "code",
   "execution_count": 7,
   "metadata": {},
   "outputs": [
    {
     "data": {
      "text/html": [
       "<div>\n",
       "<style scoped>\n",
       "    .dataframe tbody tr th:only-of-type {\n",
       "        vertical-align: middle;\n",
       "    }\n",
       "\n",
       "    .dataframe tbody tr th {\n",
       "        vertical-align: top;\n",
       "    }\n",
       "\n",
       "    .dataframe thead th {\n",
       "        text-align: right;\n",
       "    }\n",
       "</style>\n",
       "<table border=\"1\" class=\"dataframe\">\n",
       "  <thead>\n",
       "    <tr style=\"text-align: right;\">\n",
       "      <th></th>\n",
       "      <th>TITLE</th>\n",
       "      <th>re_smart</th>\n",
       "      <th>re_phone</th>\n",
       "      <th>re_celular</th>\n",
       "      <th>re_bumper</th>\n",
       "      <th>re_letra_num</th>\n",
       "      <th>re_kit</th>\n",
       "      <th>re_capa</th>\n",
       "      <th>re_para</th>\n",
       "      <th>SMARTPHONE</th>\n",
       "    </tr>\n",
       "  </thead>\n",
       "  <tbody>\n",
       "    <tr>\n",
       "      <th>89</th>\n",
       "      <td>Capa Samsung Galaxy Y Duos S6102 TPU Branco - ...</td>\n",
       "      <td>0</td>\n",
       "      <td>0</td>\n",
       "      <td>0</td>\n",
       "      <td>0</td>\n",
       "      <td>0</td>\n",
       "      <td>0</td>\n",
       "      <td>1</td>\n",
       "      <td>0</td>\n",
       "      <td>0</td>\n",
       "    </tr>\n",
       "    <tr>\n",
       "      <th>88</th>\n",
       "      <td>Fonte Carregador Ibm Lenovo Thinkpad X60 X60s ...</td>\n",
       "      <td>0</td>\n",
       "      <td>0</td>\n",
       "      <td>0</td>\n",
       "      <td>0</td>\n",
       "      <td>0</td>\n",
       "      <td>0</td>\n",
       "      <td>0</td>\n",
       "      <td>0</td>\n",
       "      <td>0</td>\n",
       "    </tr>\n",
       "    <tr>\n",
       "      <th>58</th>\n",
       "      <td>Ivy C Com 30 Gramas</td>\n",
       "      <td>0</td>\n",
       "      <td>0</td>\n",
       "      <td>0</td>\n",
       "      <td>0</td>\n",
       "      <td>0</td>\n",
       "      <td>0</td>\n",
       "      <td>0</td>\n",
       "      <td>0</td>\n",
       "      <td>0</td>\n",
       "    </tr>\n",
       "    <tr>\n",
       "      <th>143</th>\n",
       "      <td>Capa Nokia 520 TPU Gel Amarelo - IDEA</td>\n",
       "      <td>0</td>\n",
       "      <td>0</td>\n",
       "      <td>0</td>\n",
       "      <td>0</td>\n",
       "      <td>0</td>\n",
       "      <td>0</td>\n",
       "      <td>1</td>\n",
       "      <td>0</td>\n",
       "      <td>0</td>\n",
       "    </tr>\n",
       "    <tr>\n",
       "      <th>217</th>\n",
       "      <td>Colchão Solteiro De Espuma Ortobom Viscomemory...</td>\n",
       "      <td>0</td>\n",
       "      <td>0</td>\n",
       "      <td>0</td>\n",
       "      <td>0</td>\n",
       "      <td>0</td>\n",
       "      <td>0</td>\n",
       "      <td>0</td>\n",
       "      <td>0</td>\n",
       "      <td>0</td>\n",
       "    </tr>\n",
       "    <tr>\n",
       "      <th>290</th>\n",
       "      <td>iPhone 8 Apple Plus com 64GB, Tela Retina HD d...</td>\n",
       "      <td>0</td>\n",
       "      <td>1</td>\n",
       "      <td>0</td>\n",
       "      <td>0</td>\n",
       "      <td>0</td>\n",
       "      <td>0</td>\n",
       "      <td>0</td>\n",
       "      <td>0</td>\n",
       "      <td>1</td>\n",
       "    </tr>\n",
       "    <tr>\n",
       "      <th>364</th>\n",
       "      <td>Lançamento Xiaomi Redmi S2 64gb Dual Sim Rom G...</td>\n",
       "      <td>0</td>\n",
       "      <td>0</td>\n",
       "      <td>0</td>\n",
       "      <td>0</td>\n",
       "      <td>1</td>\n",
       "      <td>0</td>\n",
       "      <td>0</td>\n",
       "      <td>0</td>\n",
       "      <td>1</td>\n",
       "    </tr>\n",
       "    <tr>\n",
       "      <th>436</th>\n",
       "      <td>Samsung Galaxy S8 5.8in 64gb Câmera 12mp+8mp A...</td>\n",
       "      <td>0</td>\n",
       "      <td>0</td>\n",
       "      <td>0</td>\n",
       "      <td>0</td>\n",
       "      <td>1</td>\n",
       "      <td>0</td>\n",
       "      <td>0</td>\n",
       "      <td>0</td>\n",
       "      <td>1</td>\n",
       "    </tr>\n",
       "    <tr>\n",
       "      <th>326</th>\n",
       "      <td>Celular Samsung J400m Galaxy J4 Prata 32 Gb</td>\n",
       "      <td>0</td>\n",
       "      <td>0</td>\n",
       "      <td>1</td>\n",
       "      <td>0</td>\n",
       "      <td>1</td>\n",
       "      <td>0</td>\n",
       "      <td>0</td>\n",
       "      <td>0</td>\n",
       "      <td>1</td>\n",
       "    </tr>\n",
       "    <tr>\n",
       "      <th>150</th>\n",
       "      <td>Samsung Galaxy S9+ S9 Plus Anatel 128gb Lacrad...</td>\n",
       "      <td>0</td>\n",
       "      <td>0</td>\n",
       "      <td>0</td>\n",
       "      <td>0</td>\n",
       "      <td>1</td>\n",
       "      <td>0</td>\n",
       "      <td>0</td>\n",
       "      <td>0</td>\n",
       "      <td>1</td>\n",
       "    </tr>\n",
       "  </tbody>\n",
       "</table>\n",
       "</div>"
      ],
      "text/plain": [
       "                                                 TITLE  re_smart  re_phone  \\\n",
       "89   Capa Samsung Galaxy Y Duos S6102 TPU Branco - ...         0         0   \n",
       "88   Fonte Carregador Ibm Lenovo Thinkpad X60 X60s ...         0         0   \n",
       "58                                 Ivy C Com 30 Gramas         0         0   \n",
       "143              Capa Nokia 520 TPU Gel Amarelo - IDEA         0         0   \n",
       "217  Colchão Solteiro De Espuma Ortobom Viscomemory...         0         0   \n",
       "290  iPhone 8 Apple Plus com 64GB, Tela Retina HD d...         0         1   \n",
       "364  Lançamento Xiaomi Redmi S2 64gb Dual Sim Rom G...         0         0   \n",
       "436  Samsung Galaxy S8 5.8in 64gb Câmera 12mp+8mp A...         0         0   \n",
       "326        Celular Samsung J400m Galaxy J4 Prata 32 Gb         0         0   \n",
       "150  Samsung Galaxy S9+ S9 Plus Anatel 128gb Lacrad...         0         0   \n",
       "\n",
       "     re_celular  re_bumper  re_letra_num  re_kit  re_capa  re_para  SMARTPHONE  \n",
       "89            0          0             0       0        1        0           0  \n",
       "88            0          0             0       0        0        0           0  \n",
       "58            0          0             0       0        0        0           0  \n",
       "143           0          0             0       0        1        0           0  \n",
       "217           0          0             0       0        0        0           0  \n",
       "290           0          0             0       0        0        0           1  \n",
       "364           0          0             1       0        0        0           1  \n",
       "436           0          0             1       0        0        0           1  \n",
       "326           1          0             1       0        0        0           1  \n",
       "150           0          0             1       0        0        0           1  "
      ]
     },
     "execution_count": 7,
     "metadata": {},
     "output_type": "execute_result"
    }
   ],
   "source": [
    "annotated_attributes = get_row_attributes(annotated_data)\n",
    "annotated_attributes['SMARTPHONE'] = annotated_data.SMARTPHONE\n",
    "\n",
    "stratified_sample(annotated_attributes, 'SMARTPHONE', 5)"
   ]
  },
  {
   "cell_type": "code",
   "execution_count": 8,
   "metadata": {},
   "outputs": [
    {
     "data": {
      "image/png": "[encoded data removed]",
      "text/plain": [
       "<Figure size 432x288 with 2 Axes>"
      ]
     },
     "metadata": {
      "needs_background": "light"
     },
     "output_type": "display_data"
    }
   ],
   "source": [
    "sns.heatmap(\n",
    "    pd.DataFrame(annotated_attributes.iloc[:, 1:].corr().iloc[:-1, -1]),\n",
    "    vmin=-1,\n",
    "    vmax=+1,\n",
    "    cmap=sns.color_palette('RdBu_r', 7))\n",
    "plt.title('Correlação dos atributos com a variável resposta')\n",
    "plt.show()"
   ]
  },
  {
   "cell_type": "markdown",
   "metadata": {},
   "source": [
    "`bumper` e `kit` apresentam uma correlação não existente ou muito pequena com a variável resposta, portanto optei por tirar essas variáveis para reduzir o número de dimensões do problema."
   ]
  },
  {
   "cell_type": "markdown",
   "metadata": {},
   "source": [
    "Incluí essas variáveis pois apareciam com certa frequência na amostra anotada, mas parece que não são frequentes ou influentes o bastante para ter uma participação significativa nos resultados."
   ]
  },
  {
   "cell_type": "code",
   "execution_count": 9,
   "metadata": {},
   "outputs": [],
   "source": [
    "patterns = [\n",
    "    r'smart', # contém \"smart\"\n",
    "    r'(?:ph|f)one', # contém \"fone\" ou \"phone\"\n",
    "    r'\\bcelular\\b', # contém a palavra \"celular\"\n",
    "    # r'\\bbumper\\b', # contém a palavra \"bumper\"\n",
    "    r'\\b[a-z]\\d\\b', # contém, p.e., \"G5\", \"S9\", ...\n",
    "    # r'\\bkit\\b', # contém a palavra \"kit\"\n",
    "    r'\\b(?:capa|case)\\b', # contém a palavra \"capa\" ou \"case\"\n",
    "    r'\\bpara\\b' # contém a palavra \"para\" (p.e. \"antena para celular\")\n",
    "]\n",
    "\n",
    "patterns_re = [re.compile(pat, re.IGNORECASE) for pat in patterns]\n",
    "\n",
    "# Usado para nomear as colunas do DataFrame\n",
    "attr_names = ['smart', 'phone', 'celular', 'letra_num', 'capa', 'para']"
   ]
  },
  {
   "cell_type": "code",
   "execution_count": 10,
   "metadata": {},
   "outputs": [
    {
     "data": {
      "text/html": [
       "<div>\n",
       "<style scoped>\n",
       "    .dataframe tbody tr th:only-of-type {\n",
       "        vertical-align: middle;\n",
       "    }\n",
       "\n",
       "    .dataframe tbody tr th {\n",
       "        vertical-align: top;\n",
       "    }\n",
       "\n",
       "    .dataframe thead th {\n",
       "        text-align: right;\n",
       "    }\n",
       "</style>\n",
       "<table border=\"1\" class=\"dataframe\">\n",
       "  <thead>\n",
       "    <tr style=\"text-align: right;\">\n",
       "      <th></th>\n",
       "      <th>TITLE</th>\n",
       "      <th>re_smart</th>\n",
       "      <th>re_phone</th>\n",
       "      <th>re_celular</th>\n",
       "      <th>re_letra_num</th>\n",
       "      <th>re_capa</th>\n",
       "      <th>re_para</th>\n",
       "      <th>SMARTPHONE</th>\n",
       "    </tr>\n",
       "  </thead>\n",
       "  <tbody>\n",
       "    <tr>\n",
       "      <th>267</th>\n",
       "      <td>Cooler Para Notebook Com 6 Níveis De Ajuste De...</td>\n",
       "      <td>0</td>\n",
       "      <td>0</td>\n",
       "      <td>0</td>\n",
       "      <td>0</td>\n",
       "      <td>0</td>\n",
       "      <td>1</td>\n",
       "      <td>0</td>\n",
       "    </tr>\n",
       "    <tr>\n",
       "      <th>432</th>\n",
       "      <td>Capa Lg G2 Mini Tpu Branco</td>\n",
       "      <td>0</td>\n",
       "      <td>0</td>\n",
       "      <td>0</td>\n",
       "      <td>1</td>\n",
       "      <td>1</td>\n",
       "      <td>0</td>\n",
       "      <td>0</td>\n",
       "    </tr>\n",
       "    <tr>\n",
       "      <th>284</th>\n",
       "      <td>Sebastian Professional Form Texture Maker Spra...</td>\n",
       "      <td>0</td>\n",
       "      <td>0</td>\n",
       "      <td>0</td>\n",
       "      <td>0</td>\n",
       "      <td>0</td>\n",
       "      <td>0</td>\n",
       "      <td>0</td>\n",
       "    </tr>\n",
       "    <tr>\n",
       "      <th>14</th>\n",
       "      <td>Capa Lg L3 Ii Tpu Roxo - Idea</td>\n",
       "      <td>0</td>\n",
       "      <td>0</td>\n",
       "      <td>0</td>\n",
       "      <td>1</td>\n",
       "      <td>1</td>\n",
       "      <td>0</td>\n",
       "      <td>0</td>\n",
       "    </tr>\n",
       "    <tr>\n",
       "      <th>104</th>\n",
       "      <td>Boneca Nolly Fala 60 Frases 32cm 124 - Super Toys</td>\n",
       "      <td>0</td>\n",
       "      <td>0</td>\n",
       "      <td>0</td>\n",
       "      <td>0</td>\n",
       "      <td>0</td>\n",
       "      <td>0</td>\n",
       "      <td>0</td>\n",
       "    </tr>\n",
       "    <tr>\n",
       "      <th>470</th>\n",
       "      <td>iPhone 8 Plus Apple RED Special Edition 64GB T...</td>\n",
       "      <td>0</td>\n",
       "      <td>1</td>\n",
       "      <td>0</td>\n",
       "      <td>0</td>\n",
       "      <td>0</td>\n",
       "      <td>0</td>\n",
       "      <td>1</td>\n",
       "    </tr>\n",
       "    <tr>\n",
       "      <th>433</th>\n",
       "      <td>Smartphone Motorola Moto G6 Play Dourado 32 Gb...</td>\n",
       "      <td>1</td>\n",
       "      <td>1</td>\n",
       "      <td>0</td>\n",
       "      <td>1</td>\n",
       "      <td>0</td>\n",
       "      <td>0</td>\n",
       "      <td>1</td>\n",
       "    </tr>\n",
       "    <tr>\n",
       "      <th>363</th>\n",
       "      <td>Smartphone Asus Zenfone 4 Selfie ZD553KL Gold ...</td>\n",
       "      <td>1</td>\n",
       "      <td>1</td>\n",
       "      <td>0</td>\n",
       "      <td>0</td>\n",
       "      <td>0</td>\n",
       "      <td>0</td>\n",
       "      <td>1</td>\n",
       "    </tr>\n",
       "    <tr>\n",
       "      <th>16</th>\n",
       "      <td>Samsung Galaxy S5 G900m 16gb Original Usado Ma...</td>\n",
       "      <td>0</td>\n",
       "      <td>0</td>\n",
       "      <td>0</td>\n",
       "      <td>1</td>\n",
       "      <td>0</td>\n",
       "      <td>0</td>\n",
       "      <td>1</td>\n",
       "    </tr>\n",
       "    <tr>\n",
       "      <th>415</th>\n",
       "      <td>Celular Iphone 5s 32gb Desbloqueado 100% Funci...</td>\n",
       "      <td>0</td>\n",
       "      <td>1</td>\n",
       "      <td>1</td>\n",
       "      <td>0</td>\n",
       "      <td>0</td>\n",
       "      <td>0</td>\n",
       "      <td>1</td>\n",
       "    </tr>\n",
       "  </tbody>\n",
       "</table>\n",
       "</div>"
      ],
      "text/plain": [
       "                                                 TITLE  re_smart  re_phone  \\\n",
       "267  Cooler Para Notebook Com 6 Níveis De Ajuste De...         0         0   \n",
       "432                         Capa Lg G2 Mini Tpu Branco         0         0   \n",
       "284  Sebastian Professional Form Texture Maker Spra...         0         0   \n",
       "14                       Capa Lg L3 Ii Tpu Roxo - Idea         0         0   \n",
       "104  Boneca Nolly Fala 60 Frases 32cm 124 - Super Toys         0         0   \n",
       "470  iPhone 8 Plus Apple RED Special Edition 64GB T...         0         1   \n",
       "433  Smartphone Motorola Moto G6 Play Dourado 32 Gb...         1         1   \n",
       "363  Smartphone Asus Zenfone 4 Selfie ZD553KL Gold ...         1         1   \n",
       "16   Samsung Galaxy S5 G900m 16gb Original Usado Ma...         0         0   \n",
       "415  Celular Iphone 5s 32gb Desbloqueado 100% Funci...         0         1   \n",
       "\n",
       "     re_celular  re_letra_num  re_capa  re_para  SMARTPHONE  \n",
       "267           0             0        0        1           0  \n",
       "432           0             1        1        0           0  \n",
       "284           0             0        0        0           0  \n",
       "14            0             1        1        0           0  \n",
       "104           0             0        0        0           0  \n",
       "470           0             0        0        0           1  \n",
       "433           0             1        0        0           1  \n",
       "363           0             0        0        0           1  \n",
       "16            0             1        0        0           1  \n",
       "415           1             0        0        0           1  "
      ]
     },
     "execution_count": 10,
     "metadata": {},
     "output_type": "execute_result"
    }
   ],
   "source": [
    "annotated_attributes = get_row_attributes(annotated_data)\n",
    "annotated_attributes['SMARTPHONE'] = annotated_data.SMARTPHONE\n",
    "\n",
    "stratified_sample(annotated_attributes, 'SMARTPHONE', 5)"
   ]
  },
  {
   "cell_type": "code",
   "execution_count": 11,
   "metadata": {},
   "outputs": [
    {
     "data": {
      "image/png": "[encoded data removed]",
      "text/plain": [
       "<Figure size 432x288 with 2 Axes>"
      ]
     },
     "metadata": {
      "needs_background": "light"
     },
     "output_type": "display_data"
    }
   ],
   "source": [
    "sns.heatmap(\n",
    "    pd.DataFrame(annotated_attributes.iloc[:, 1:].corr().iloc[:-1, -1]),\n",
    "    vmin=-1,\n",
    "    vmax=+1,\n",
    "    cmap=sns.color_palette('RdBu_r', 7))\n",
    "plt.title('Correlação dos atributos com a variável resposta')\n",
    "plt.show()"
   ]
  },
  {
   "cell_type": "markdown",
   "metadata": {},
   "source": [
    "Aqui seria cabível uma análise de componentes principais ou análise de correspondência, mas por questões de tempo e simplicidade, deixei as demais colunas como estão."
   ]
  },
  {
   "cell_type": "markdown",
   "metadata": {},
   "source": [
    "# Avaliação de classificadores"
   ]
  },
  {
   "cell_type": "code",
   "execution_count": 12,
   "metadata": {},
   "outputs": [],
   "source": [
    "from sklearn.linear_model import Perceptron\n",
    "from sklearn.svm import SVC\n",
    "from sklearn.model_selection import cross_val_score\n",
    "\n",
    "from scipy.stats import ttest_ind"
   ]
  },
  {
   "cell_type": "markdown",
   "metadata": {},
   "source": [
    "Foi usada a área sob a curva ROC como medida de avaliação.  \n",
    "Nesse caso, pode ser interessante ajustar as taxas de falsos e verdadeiros positivos.\n",
    "\n",
    "Logo a curva ROC é uma representação apropriada para a performance de um classificador, pois sumariza a qualidade dos resultados do classificador sob um *threshold* bom."
   ]
  },
  {
   "cell_type": "markdown",
   "metadata": {},
   "source": [
    "Os classificadores testados foram o perceptron e a máquina de vetores de suporte com kernel polinomial de grau 3.  \n",
    "Os resultados foram comparados com um teste T pareado para amostras independentes."
   ]
  },
  {
   "cell_type": "code",
   "execution_count": 13,
   "metadata": {},
   "outputs": [],
   "source": [
    "X = annotated_attributes.iloc[:, 1:-1].values\n",
    "y = annotated_attributes.iloc[:, -1].values"
   ]
  },
  {
   "cell_type": "code",
   "execution_count": 14,
   "metadata": {},
   "outputs": [],
   "source": [
    "def eval_clf(clf):\n",
    "    roc_auc = cross_val_score(\n",
    "        clf,\n",
    "        X,\n",
    "        y,\n",
    "        scoring='roc_auc',\n",
    "        cv=10\n",
    "    )\n",
    "    print(f'roc_auc: {np.mean(roc_auc):.2f} +- {np.std(roc_auc):.2f}\\t'\n",
    "         + f'min: {np.min(roc_auc):.2f}; max: {np.max(roc_auc):.2f}')\n",
    "    return roc_auc"
   ]
  },
  {
   "cell_type": "code",
   "execution_count": 15,
   "metadata": {},
   "outputs": [
    {
     "name": "stdout",
     "output_type": "stream",
     "text": [
      "Perceptron:\n",
      "roc_auc: 0.96 +- 0.03\tmin: 0.89; max: 0.99\n"
     ]
    }
   ],
   "source": [
    "perceptron = Perceptron(max_iter=1e3)\n",
    "\n",
    "print('Perceptron:')\n",
    "roc_auc_per = eval_clf(perceptron)"
   ]
  },
  {
   "cell_type": "code",
   "execution_count": 16,
   "metadata": {},
   "outputs": [
    {
     "name": "stdout",
     "output_type": "stream",
     "text": [
      "SVC (poly-3):\n",
      "roc_auc: 0.97 +- 0.02\tmin: 0.93; max: 0.99\n"
     ]
    }
   ],
   "source": [
    "svc = SVC(gamma='auto', kernel='poly', degree=3) # sem limite de iterações\n",
    "\n",
    "print('SVC (poly-3):')\n",
    "roc_auc_svc = eval_clf(svc)"
   ]
  },
  {
   "cell_type": "code",
   "execution_count": 17,
   "metadata": {},
   "outputs": [
    {
     "name": "stdout",
     "output_type": "stream",
     "text": [
      "p-value: 0.625 (5% de significância)\n",
      "Não há evidência de diferença de performance\n"
     ]
    }
   ],
   "source": [
    "pvalue = ttest_ind(roc_auc_per, roc_auc_svc).pvalue\n",
    "print(f'p-value: {pvalue:.3f} (5% de significância)')\n",
    "if pvalue < 0.05:\n",
    "    print('Há evidências de que os classificadores possuem performances diferentes')\n",
    "else:\n",
    "    print('Não há evidência de diferença de performance')"
   ]
  },
  {
   "cell_type": "markdown",
   "metadata": {},
   "source": [
    "## Seleção do classificador"
   ]
  },
  {
   "cell_type": "markdown",
   "metadata": {},
   "source": [
    "Não houve evidências para dizer que um dos classificadores teve performance melhor.  \n",
    "Logo, optei pela simplicidade do perceptron em detrimento do SVC.  \n",
    "Entre os benefícios de optar pelo modelo simples, há a chance reduzida de overfitting."
   ]
  },
  {
   "cell_type": "markdown",
   "metadata": {},
   "source": [
    "# Transformação do dataset"
   ]
  },
  {
   "cell_type": "markdown",
   "metadata": {},
   "source": [
    "## Treino do classificador escolhido"
   ]
  },
  {
   "cell_type": "code",
   "execution_count": 18,
   "metadata": {},
   "outputs": [
    {
     "data": {
      "text/plain": [
       "Perceptron(alpha=0.0001, class_weight=None, early_stopping=False, eta0=1.0,\n",
       "      fit_intercept=True, max_iter=1000.0, n_iter=None, n_iter_no_change=5,\n",
       "      n_jobs=None, penalty=None, random_state=0, shuffle=True, tol=None,\n",
       "      validation_fraction=0.1, verbose=0, warm_start=False)"
      ]
     },
     "execution_count": 18,
     "metadata": {},
     "output_type": "execute_result"
    }
   ],
   "source": [
    "classifier = perceptron\n",
    "\n",
    "X = annotated_attributes.iloc[:, 1:-1].values\n",
    "y = annotated_attributes.iloc[:, -1].values\n",
    "classifier.fit(X, y)"
   ]
  },
  {
   "cell_type": "code",
   "execution_count": 19,
   "metadata": {},
   "outputs": [
    {
     "data": {
      "text/html": [
       "<div>\n",
       "<style scoped>\n",
       "    .dataframe tbody tr th:only-of-type {\n",
       "        vertical-align: middle;\n",
       "    }\n",
       "\n",
       "    .dataframe tbody tr th {\n",
       "        vertical-align: top;\n",
       "    }\n",
       "\n",
       "    .dataframe thead th {\n",
       "        text-align: right;\n",
       "    }\n",
       "</style>\n",
       "<table border=\"1\" class=\"dataframe\">\n",
       "  <thead>\n",
       "    <tr style=\"text-align: right;\">\n",
       "      <th></th>\n",
       "      <th>ID</th>\n",
       "      <th>TITLE</th>\n",
       "    </tr>\n",
       "  </thead>\n",
       "  <tbody>\n",
       "    <tr>\n",
       "      <th>0</th>\n",
       "      <td>1041354</td>\n",
       "      <td>Acessório T - Jean Bag For Girls para DS Lite</td>\n",
       "    </tr>\n",
       "    <tr>\n",
       "      <th>1</th>\n",
       "      <td>1041782</td>\n",
       "      <td>Carrinho de Bebê Berço-Passeio - Pegasus Pink ...</td>\n",
       "    </tr>\n",
       "    <tr>\n",
       "      <th>2</th>\n",
       "      <td>1041834</td>\n",
       "      <td>Carrinho de Bebê para Gêmeos Berço-Passeio - T...</td>\n",
       "    </tr>\n",
       "    <tr>\n",
       "      <th>3</th>\n",
       "      <td>1042568</td>\n",
       "      <td>Car Center - Calesita</td>\n",
       "    </tr>\n",
       "    <tr>\n",
       "      <th>4</th>\n",
       "      <td>1042584</td>\n",
       "      <td>Donka Trem com Som - Calesita</td>\n",
       "    </tr>\n",
       "  </tbody>\n",
       "</table>\n",
       "</div>"
      ],
      "text/plain": [
       "        ID                                              TITLE\n",
       "0  1041354      Acessório T - Jean Bag For Girls para DS Lite\n",
       "1  1041782  Carrinho de Bebê Berço-Passeio - Pegasus Pink ...\n",
       "2  1041834  Carrinho de Bebê para Gêmeos Berço-Passeio - T...\n",
       "3  1042568                              Car Center - Calesita\n",
       "4  1042584                      Donka Trem com Som - Calesita"
      ]
     },
     "execution_count": 19,
     "metadata": {},
     "output_type": "execute_result"
    }
   ],
   "source": [
    "data = pd.read_csv('data_estag_ds.tsv', sep='\\t')\n",
    "data.head()"
   ]
  },
  {
   "cell_type": "code",
   "execution_count": 20,
   "metadata": {},
   "outputs": [
    {
     "data": {
      "text/html": [
       "<div>\n",
       "<style scoped>\n",
       "    .dataframe tbody tr th:only-of-type {\n",
       "        vertical-align: middle;\n",
       "    }\n",
       "\n",
       "    .dataframe tbody tr th {\n",
       "        vertical-align: top;\n",
       "    }\n",
       "\n",
       "    .dataframe thead th {\n",
       "        text-align: right;\n",
       "    }\n",
       "</style>\n",
       "<table border=\"1\" class=\"dataframe\">\n",
       "  <thead>\n",
       "    <tr style=\"text-align: right;\">\n",
       "      <th></th>\n",
       "      <th>TITLE</th>\n",
       "      <th>re_smart</th>\n",
       "      <th>re_phone</th>\n",
       "      <th>re_celular</th>\n",
       "      <th>re_letra_num</th>\n",
       "      <th>re_capa</th>\n",
       "      <th>re_para</th>\n",
       "    </tr>\n",
       "  </thead>\n",
       "  <tbody>\n",
       "    <tr>\n",
       "      <th>0</th>\n",
       "      <td>Acessório T - Jean Bag For Girls para DS Lite</td>\n",
       "      <td>0</td>\n",
       "      <td>0</td>\n",
       "      <td>0</td>\n",
       "      <td>0</td>\n",
       "      <td>0</td>\n",
       "      <td>1</td>\n",
       "    </tr>\n",
       "    <tr>\n",
       "      <th>1</th>\n",
       "      <td>Carrinho de Bebê Berço-Passeio - Pegasus Pink ...</td>\n",
       "      <td>0</td>\n",
       "      <td>0</td>\n",
       "      <td>0</td>\n",
       "      <td>0</td>\n",
       "      <td>0</td>\n",
       "      <td>0</td>\n",
       "    </tr>\n",
       "    <tr>\n",
       "      <th>2</th>\n",
       "      <td>Carrinho de Bebê para Gêmeos Berço-Passeio - T...</td>\n",
       "      <td>0</td>\n",
       "      <td>0</td>\n",
       "      <td>0</td>\n",
       "      <td>0</td>\n",
       "      <td>0</td>\n",
       "      <td>1</td>\n",
       "    </tr>\n",
       "    <tr>\n",
       "      <th>3</th>\n",
       "      <td>Car Center - Calesita</td>\n",
       "      <td>0</td>\n",
       "      <td>0</td>\n",
       "      <td>0</td>\n",
       "      <td>0</td>\n",
       "      <td>0</td>\n",
       "      <td>0</td>\n",
       "    </tr>\n",
       "    <tr>\n",
       "      <th>4</th>\n",
       "      <td>Donka Trem com Som - Calesita</td>\n",
       "      <td>0</td>\n",
       "      <td>0</td>\n",
       "      <td>0</td>\n",
       "      <td>0</td>\n",
       "      <td>0</td>\n",
       "      <td>0</td>\n",
       "    </tr>\n",
       "  </tbody>\n",
       "</table>\n",
       "</div>"
      ],
      "text/plain": [
       "                                               TITLE  re_smart  re_phone  \\\n",
       "0      Acessório T - Jean Bag For Girls para DS Lite         0         0   \n",
       "1  Carrinho de Bebê Berço-Passeio - Pegasus Pink ...         0         0   \n",
       "2  Carrinho de Bebê para Gêmeos Berço-Passeio - T...         0         0   \n",
       "3                              Car Center - Calesita         0         0   \n",
       "4                      Donka Trem com Som - Calesita         0         0   \n",
       "\n",
       "   re_celular  re_letra_num  re_capa  re_para  \n",
       "0           0             0        0        1  \n",
       "1           0             0        0        0  \n",
       "2           0             0        0        1  \n",
       "3           0             0        0        0  \n",
       "4           0             0        0        0  "
      ]
     },
     "execution_count": 20,
     "metadata": {},
     "output_type": "execute_result"
    }
   ],
   "source": [
    "data_attr = get_row_attributes(data)\n",
    "data_attr.head()"
   ]
  },
  {
   "cell_type": "code",
   "execution_count": 21,
   "metadata": {},
   "outputs": [],
   "source": [
    "predictions = classifier.predict(data_attr.iloc[:, 1:].values)"
   ]
  },
  {
   "cell_type": "code",
   "execution_count": 22,
   "metadata": {},
   "outputs": [],
   "source": [
    "answers = pd.DataFrame()\n",
    "answers['ID'] = data.ID\n",
    "answers['TITLE'] = data.TITLE\n",
    "answers['SMARTPHONE'] = pd.Series(predictions)"
   ]
  },
  {
   "cell_type": "code",
   "execution_count": 23,
   "metadata": {},
   "outputs": [
    {
     "data": {
      "text/html": [
       "<div>\n",
       "<style scoped>\n",
       "    .dataframe tbody tr th:only-of-type {\n",
       "        vertical-align: middle;\n",
       "    }\n",
       "\n",
       "    .dataframe tbody tr th {\n",
       "        vertical-align: top;\n",
       "    }\n",
       "\n",
       "    .dataframe thead th {\n",
       "        text-align: right;\n",
       "    }\n",
       "</style>\n",
       "<table border=\"1\" class=\"dataframe\">\n",
       "  <thead>\n",
       "    <tr style=\"text-align: right;\">\n",
       "      <th></th>\n",
       "      <th>ID</th>\n",
       "      <th>TITLE</th>\n",
       "      <th>SMARTPHONE</th>\n",
       "    </tr>\n",
       "  </thead>\n",
       "  <tbody>\n",
       "    <tr>\n",
       "      <th>1577</th>\n",
       "      <td>10637463</td>\n",
       "      <td>Capa Samsung Galaxy S3 Mini PC Transparente</td>\n",
       "      <td>0</td>\n",
       "    </tr>\n",
       "    <tr>\n",
       "      <th>601</th>\n",
       "      <td>10471854</td>\n",
       "      <td>Coifa Consul Parede Facilite Piramidal Aço Ino...</td>\n",
       "      <td>0</td>\n",
       "    </tr>\n",
       "    <tr>\n",
       "      <th>1514</th>\n",
       "      <td>10631886</td>\n",
       "      <td>Cabo Apple Cabo De Lightning Para Usb (2m) (Md...</td>\n",
       "      <td>0</td>\n",
       "    </tr>\n",
       "    <tr>\n",
       "      <th>1070</th>\n",
       "      <td>10570587</td>\n",
       "      <td>Papel Scrapbook Folha Simples flores LSC-219 -...</td>\n",
       "      <td>0</td>\n",
       "    </tr>\n",
       "    <tr>\n",
       "      <th>441</th>\n",
       "      <td>10436481</td>\n",
       "      <td>Película Protetora Para Iphone 6 Plus - Transp...</td>\n",
       "      <td>0</td>\n",
       "    </tr>\n",
       "    <tr>\n",
       "      <th>283</th>\n",
       "      <td>10380246</td>\n",
       "      <td>Fone Com Microfone Phn-M82mv/Bk Com Cont. Volu...</td>\n",
       "      <td>1</td>\n",
       "    </tr>\n",
       "    <tr>\n",
       "      <th>2399</th>\n",
       "      <td>1047753466</td>\n",
       "      <td>Celular Smartphone Motorola Moto Z3 Play Indig...</td>\n",
       "      <td>1</td>\n",
       "    </tr>\n",
       "    <tr>\n",
       "      <th>2094</th>\n",
       "      <td>11822388</td>\n",
       "      <td>Smartphone Asus Zenfone 4 ZE554KL Verde com 64...</td>\n",
       "      <td>1</td>\n",
       "    </tr>\n",
       "    <tr>\n",
       "      <th>2568</th>\n",
       "      <td>1097126756</td>\n",
       "      <td>Smartphone Motorola G5s Plus 32gb Android Bara...</td>\n",
       "      <td>1</td>\n",
       "    </tr>\n",
       "    <tr>\n",
       "      <th>2336</th>\n",
       "      <td>1023148781</td>\n",
       "      <td>Iphone 6 Plus 64gb Tela 5'5 12mp 4k Touchid Ap...</td>\n",
       "      <td>1</td>\n",
       "    </tr>\n",
       "  </tbody>\n",
       "</table>\n",
       "</div>"
      ],
      "text/plain": [
       "              ID                                              TITLE  \\\n",
       "1577    10637463        Capa Samsung Galaxy S3 Mini PC Transparente   \n",
       "601     10471854  Coifa Consul Parede Facilite Piramidal Aço Ino...   \n",
       "1514    10631886  Cabo Apple Cabo De Lightning Para Usb (2m) (Md...   \n",
       "1070    10570587  Papel Scrapbook Folha Simples flores LSC-219 -...   \n",
       "441     10436481  Película Protetora Para Iphone 6 Plus - Transp...   \n",
       "283     10380246  Fone Com Microfone Phn-M82mv/Bk Com Cont. Volu...   \n",
       "2399  1047753466  Celular Smartphone Motorola Moto Z3 Play Indig...   \n",
       "2094    11822388  Smartphone Asus Zenfone 4 ZE554KL Verde com 64...   \n",
       "2568  1097126756  Smartphone Motorola G5s Plus 32gb Android Bara...   \n",
       "2336  1023148781  Iphone 6 Plus 64gb Tela 5'5 12mp 4k Touchid Ap...   \n",
       "\n",
       "      SMARTPHONE  \n",
       "1577           0  \n",
       "601            0  \n",
       "1514           0  \n",
       "1070           0  \n",
       "441            0  \n",
       "283            1  \n",
       "2399           1  \n",
       "2094           1  \n",
       "2568           1  \n",
       "2336           1  "
      ]
     },
     "execution_count": 23,
     "metadata": {},
     "output_type": "execute_result"
    }
   ],
   "source": [
    "stratified_sample(answers, 'SMARTPHONE', 5)"
   ]
  },
  {
   "cell_type": "code",
   "execution_count": 24,
   "metadata": {},
   "outputs": [],
   "source": [
    "answers.to_csv('output.tsv', sep='\\t', index=False)"
   ]
  }
 ],
 "metadata": {
  "kernelspec": {
   "display_name": "Python 3",
   "language": "python",
   "name": "python3"
  },
  "language_info": {
   "codemirror_mode": {
    "name": "ipython",
    "version": 3
   },
   "file_extension": ".py",
   "mimetype": "text/x-python",
   "name": "python",
   "nbconvert_exporter": "python",
   "pygments_lexer": "ipython3",
   "version": "3.6.6"
  }
 },
 "nbformat": 4,
 "nbformat_minor": 2
}
