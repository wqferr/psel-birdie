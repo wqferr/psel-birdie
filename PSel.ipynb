{
 "cells": [
  {
   "cell_type": "markdown",
   "metadata": {},
   "source": [
    "O treinamento do modelo se deu sobre um subconjunto dos dados que foi anotado manualmente.  \n",
    "O conjunto anotado pode ser encontrado em `sample.csv`.\n",
    "\n",
    "A amostragem foi feita através do script `sample.py`."
   ]
  },
  {
   "cell_type": "code",
   "execution_count": 1,
   "metadata": {},
   "outputs": [],
   "source": [
    "import numpy as np\n",
    "import pandas as pd\n",
    "import re\n",
    "\n",
    "import seaborn as sns\n",
    "from matplotlib import pyplot as plt\n",
    "\n",
    "%matplotlib inline"
   ]
  },
  {
   "cell_type": "code",
   "execution_count": 2,
   "metadata": {},
   "outputs": [
    {
     "data": {
      "text/html": [
       "<div>\n",
       "<style scoped>\n",
       "    .dataframe tbody tr th:only-of-type {\n",
       "        vertical-align: middle;\n",
       "    }\n",
       "\n",
       "    .dataframe tbody tr th {\n",
       "        vertical-align: top;\n",
       "    }\n",
       "\n",
       "    .dataframe thead th {\n",
       "        text-align: right;\n",
       "    }\n",
       "</style>\n",
       "<table border=\"1\" class=\"dataframe\">\n",
       "  <thead>\n",
       "    <tr style=\"text-align: right;\">\n",
       "      <th></th>\n",
       "      <th>TITLE</th>\n",
       "      <th>SMARTPHONE</th>\n",
       "    </tr>\n",
       "  </thead>\n",
       "  <tbody>\n",
       "    <tr>\n",
       "      <th>0</th>\n",
       "      <td>Capa Samsung Galaxy S5 Mini Pc Couro Branco</td>\n",
       "      <td>0</td>\n",
       "    </tr>\n",
       "    <tr>\n",
       "      <th>1</th>\n",
       "      <td>Cabo Usb Retrátil  3 Adaptadores Preto - Muvit</td>\n",
       "      <td>0</td>\n",
       "    </tr>\n",
       "    <tr>\n",
       "      <th>2</th>\n",
       "      <td>Celular Samsung Galaxy A8 Plus 2018 Sm-a730f 6...</td>\n",
       "      <td>1</td>\n",
       "    </tr>\n",
       "    <tr>\n",
       "      <th>3</th>\n",
       "      <td>Lousa Magnética Grande Em Formato De Vaca Suelen</td>\n",
       "      <td>0</td>\n",
       "    </tr>\n",
       "    <tr>\n",
       "      <th>4</th>\n",
       "      <td>Aplique Madeira E Papel Placa Pinguim Com Colh...</td>\n",
       "      <td>0</td>\n",
       "    </tr>\n",
       "  </tbody>\n",
       "</table>\n",
       "</div>"
      ],
      "text/plain": [
       "                                               TITLE  SMARTPHONE\n",
       "0        Capa Samsung Galaxy S5 Mini Pc Couro Branco           0\n",
       "1     Cabo Usb Retrátil  3 Adaptadores Preto - Muvit           0\n",
       "2  Celular Samsung Galaxy A8 Plus 2018 Sm-a730f 6...           1\n",
       "3   Lousa Magnética Grande Em Formato De Vaca Suelen           0\n",
       "4  Aplique Madeira E Papel Placa Pinguim Com Colh...           0"
      ]
     },
     "execution_count": 2,
     "metadata": {},
     "output_type": "execute_result"
    }
   ],
   "source": [
    "annotated_data = pd.read_csv('sample.csv')\n",
    "annotated_data.head()"
   ]
  },
  {
   "cell_type": "markdown",
   "metadata": {},
   "source": [
    "# Extração de features"
   ]
  },
  {
   "cell_type": "markdown",
   "metadata": {},
   "source": [
    "A extração de *features* foi feita através de expressões regulares:\n",
    "\n",
    "Se o título de uma instância der match em uma regex em qualquer ponto, associa-se o valor 1 àquele atributo.  \n",
    "Caso contrário, é atribuído 0."
   ]
  },
  {
   "cell_type": "code",
   "execution_count": 3,
   "metadata": {},
   "outputs": [],
   "source": [
    "patterns_re = [\n",
    "    re.compile(r'smart', re.IGNORECASE), # contém \"smart\"\n",
    "    re.compile(r'(?:ph|f)one', re.IGNORECASE), # contém \"fone\" ou \"phone\"\n",
    "    re.compile(r'celular', re.IGNORECASE), # contém \"celular\"\n",
    "    re.compile(r'bumper', re.IGNORECASE), # contém \"bumper\"\n",
    "    re.compile(r'\\b[a-z]\\d\\b', re.IGNORECASE), # contém, p.e., \"G5\", \"S9\", ...\n",
    "    re.compile(r'\\bcapa\\b', re.IGNORECASE), # contém \"capa\"\n",
    "    re.compile(r'\\bpara\\b', re.IGNORECASE), # contém \"para\" (p.e. \"antena para celular\")\n",
    "]\n",
    "\n",
    "# Usado para nomear as colunas do DataFrame\n",
    "attr_names = ['smart', 'phone', 'celular', 'bumper', 'letra_num', 'capa', 'para']"
   ]
  },
  {
   "cell_type": "code",
   "execution_count": 4,
   "metadata": {},
   "outputs": [],
   "source": [
    "# Transforma um título em uma lista de atributos\n",
    "def get_attributes(title):\n",
    "    title_attributes = []\n",
    "    for pattern in patterns_re:\n",
    "        if pattern.search(title) is None:\n",
    "            title_attributes.append(0)\n",
    "        else:\n",
    "            title_attributes.append(1)\n",
    "    return title_attributes"
   ]
  },
  {
   "cell_type": "markdown",
   "metadata": {},
   "source": [
    "## Transformação dos dados"
   ]
  },
  {
   "cell_type": "code",
   "execution_count": 5,
   "metadata": {},
   "outputs": [],
   "source": [
    "def get_row_attributes(dataframe):\n",
    "    attributes = []\n",
    "    for i in dataframe.index:\n",
    "        row_attr = get_attributes(dataframe.loc[i].TITLE)\n",
    "        attributes.append(row_attr)\n",
    "    attr_df = pd.DataFrame(attributes)\n",
    "    attr_df.columns = attr_names\n",
    "    attr_df.insert(0, 'TITLE', dataframe.TITLE)\n",
    "    return attr_df"
   ]
  },
  {
   "cell_type": "code",
   "execution_count": 6,
   "metadata": {},
   "outputs": [
    {
     "data": {
      "text/html": [
       "<div>\n",
       "<style scoped>\n",
       "    .dataframe tbody tr th:only-of-type {\n",
       "        vertical-align: middle;\n",
       "    }\n",
       "\n",
       "    .dataframe tbody tr th {\n",
       "        vertical-align: top;\n",
       "    }\n",
       "\n",
       "    .dataframe thead th {\n",
       "        text-align: right;\n",
       "    }\n",
       "</style>\n",
       "<table border=\"1\" class=\"dataframe\">\n",
       "  <thead>\n",
       "    <tr style=\"text-align: right;\">\n",
       "      <th></th>\n",
       "      <th>TITLE</th>\n",
       "      <th>smart</th>\n",
       "      <th>phone</th>\n",
       "      <th>celular</th>\n",
       "      <th>bumper</th>\n",
       "      <th>letra_num</th>\n",
       "      <th>capa</th>\n",
       "      <th>para</th>\n",
       "      <th>SMARTPHONE</th>\n",
       "    </tr>\n",
       "  </thead>\n",
       "  <tbody>\n",
       "    <tr>\n",
       "      <th>88</th>\n",
       "      <td>Fonte Carregador Ibm Lenovo Thinkpad X60 X60s ...</td>\n",
       "      <td>0</td>\n",
       "      <td>0</td>\n",
       "      <td>0</td>\n",
       "      <td>0</td>\n",
       "      <td>0</td>\n",
       "      <td>0</td>\n",
       "      <td>0</td>\n",
       "      <td>0</td>\n",
       "    </tr>\n",
       "    <tr>\n",
       "      <th>131</th>\n",
       "      <td>Smartphone Samsung Galaxy Win 2 Duos TV G360BT...</td>\n",
       "      <td>1</td>\n",
       "      <td>1</td>\n",
       "      <td>0</td>\n",
       "      <td>0</td>\n",
       "      <td>0</td>\n",
       "      <td>0</td>\n",
       "      <td>0</td>\n",
       "      <td>1</td>\n",
       "    </tr>\n",
       "    <tr>\n",
       "      <th>174</th>\n",
       "      <td>Capa Lg L40 Pc Couro Preto</td>\n",
       "      <td>0</td>\n",
       "      <td>0</td>\n",
       "      <td>0</td>\n",
       "      <td>0</td>\n",
       "      <td>0</td>\n",
       "      <td>1</td>\n",
       "      <td>0</td>\n",
       "      <td>0</td>\n",
       "    </tr>\n",
       "    <tr>\n",
       "      <th>200</th>\n",
       "      <td>Película de vidro ultra temperado Asus Zenfone...</td>\n",
       "      <td>0</td>\n",
       "      <td>1</td>\n",
       "      <td>0</td>\n",
       "      <td>0</td>\n",
       "      <td>0</td>\n",
       "      <td>0</td>\n",
       "      <td>0</td>\n",
       "      <td>0</td>\n",
       "    </tr>\n",
       "    <tr>\n",
       "      <th>299</th>\n",
       "      <td>Fonte Carregador Sony Vaio Vgn-Fe880e/H Vgn-Fe...</td>\n",
       "      <td>0</td>\n",
       "      <td>0</td>\n",
       "      <td>0</td>\n",
       "      <td>0</td>\n",
       "      <td>0</td>\n",
       "      <td>0</td>\n",
       "      <td>0</td>\n",
       "      <td>0</td>\n",
       "    </tr>\n",
       "    <tr>\n",
       "      <th>318</th>\n",
       "      <td>Capa Samsung Galaxy Mini S5570 Tpu Transparente</td>\n",
       "      <td>0</td>\n",
       "      <td>0</td>\n",
       "      <td>0</td>\n",
       "      <td>0</td>\n",
       "      <td>0</td>\n",
       "      <td>1</td>\n",
       "      <td>0</td>\n",
       "      <td>0</td>\n",
       "    </tr>\n",
       "    <tr>\n",
       "      <th>343</th>\n",
       "      <td>Whey Zero 4,4lbs - Black Skull</td>\n",
       "      <td>0</td>\n",
       "      <td>0</td>\n",
       "      <td>0</td>\n",
       "      <td>0</td>\n",
       "      <td>0</td>\n",
       "      <td>0</td>\n",
       "      <td>0</td>\n",
       "      <td>0</td>\n",
       "    </tr>\n",
       "    <tr>\n",
       "      <th>420</th>\n",
       "      <td>Película Protetora Para Motorola Moto X - Fosca</td>\n",
       "      <td>0</td>\n",
       "      <td>0</td>\n",
       "      <td>0</td>\n",
       "      <td>0</td>\n",
       "      <td>0</td>\n",
       "      <td>0</td>\n",
       "      <td>1</td>\n",
       "      <td>0</td>\n",
       "    </tr>\n",
       "    <tr>\n",
       "      <th>437</th>\n",
       "      <td>Adesivo Emborrachado Ursos Ad497 - Toke E Crie</td>\n",
       "      <td>0</td>\n",
       "      <td>0</td>\n",
       "      <td>0</td>\n",
       "      <td>0</td>\n",
       "      <td>0</td>\n",
       "      <td>0</td>\n",
       "      <td>0</td>\n",
       "      <td>0</td>\n",
       "    </tr>\n",
       "    <tr>\n",
       "      <th>498</th>\n",
       "      <td>Capa Transparente Para Microsoft Lumia 435</td>\n",
       "      <td>0</td>\n",
       "      <td>0</td>\n",
       "      <td>0</td>\n",
       "      <td>0</td>\n",
       "      <td>0</td>\n",
       "      <td>1</td>\n",
       "      <td>1</td>\n",
       "      <td>0</td>\n",
       "    </tr>\n",
       "  </tbody>\n",
       "</table>\n",
       "</div>"
      ],
      "text/plain": [
       "                                                 TITLE  smart  phone  celular  \\\n",
       "88   Fonte Carregador Ibm Lenovo Thinkpad X60 X60s ...      0      0        0   \n",
       "131  Smartphone Samsung Galaxy Win 2 Duos TV G360BT...      1      1        0   \n",
       "174                         Capa Lg L40 Pc Couro Preto      0      0        0   \n",
       "200  Película de vidro ultra temperado Asus Zenfone...      0      1        0   \n",
       "299  Fonte Carregador Sony Vaio Vgn-Fe880e/H Vgn-Fe...      0      0        0   \n",
       "318    Capa Samsung Galaxy Mini S5570 Tpu Transparente      0      0        0   \n",
       "343                     Whey Zero 4,4lbs - Black Skull      0      0        0   \n",
       "420    Película Protetora Para Motorola Moto X - Fosca      0      0        0   \n",
       "437     Adesivo Emborrachado Ursos Ad497 - Toke E Crie      0      0        0   \n",
       "498         Capa Transparente Para Microsoft Lumia 435      0      0        0   \n",
       "\n",
       "     bumper  letra_num  capa  para  SMARTPHONE  \n",
       "88        0          0     0     0           0  \n",
       "131       0          0     0     0           1  \n",
       "174       0          0     1     0           0  \n",
       "200       0          0     0     0           0  \n",
       "299       0          0     0     0           0  \n",
       "318       0          0     1     0           0  \n",
       "343       0          0     0     0           0  \n",
       "420       0          0     0     1           0  \n",
       "437       0          0     0     0           0  \n",
       "498       0          0     1     1           0  "
      ]
     },
     "execution_count": 6,
     "metadata": {},
     "output_type": "execute_result"
    }
   ],
   "source": [
    "annotated_attributes = get_row_attributes(annotated_data)\n",
    "annotated_attributes['SMARTPHONE'] = annotated_data.SMARTPHONE\n",
    "\n",
    "annotated_attributes.sample(10).sort_index()"
   ]
  },
  {
   "cell_type": "markdown",
   "metadata": {},
   "source": [
    "Aqui seria cabível uma análise de componentes principais ou análise de correspondência, mas por questões de tempo e simplicidade, deixei todas as colunas como estão."
   ]
  },
  {
   "cell_type": "markdown",
   "metadata": {},
   "source": [
    "# Avaliação de classificadores"
   ]
  },
  {
   "cell_type": "code",
   "execution_count": 7,
   "metadata": {},
   "outputs": [],
   "source": [
    "from sklearn.linear_model import Perceptron\n",
    "from sklearn.svm import SVC\n",
    "from sklearn.model_selection import cross_val_score\n",
    "\n",
    "from scipy.stats import ttest_ind"
   ]
  },
  {
   "cell_type": "markdown",
   "metadata": {},
   "source": [
    "Foi usada a área sob a curva ROC como medida de avaliação.  \n",
    "Nesse caso, pode ser interessante ajustar as taxas de falsos e verdadeiros positivos, \n",
    "logo a curva ROC é uma representação apropriada para a performance de um classificador."
   ]
  },
  {
   "cell_type": "markdown",
   "metadata": {},
   "source": [
    "Os classificadores testados foram o perceptron e a máquina de vetores de suporte com kernel polinomial de grau 3.  \n",
    "Os resultados foram comparados com um teste T pareado para amostras independentes."
   ]
  },
  {
   "cell_type": "code",
   "execution_count": 8,
   "metadata": {},
   "outputs": [],
   "source": [
    "perceptron = Perceptron(max_iter=1e3)\n",
    "svc = SVC(gamma='auto', kernel='poly', degree=3)\n",
    "\n",
    "def eval_model(X, y):\n",
    "    roc_auc_per = cross_val_score(\n",
    "        perceptron,\n",
    "        X,\n",
    "        y,\n",
    "        scoring='roc_auc',\n",
    "        cv=10\n",
    "    )\n",
    "    print('Perceptron:')\n",
    "    print(f'roc_auc: {np.mean(roc_auc_per):.2f} +- {np.std(roc_auc_per):.2f}\\t'\n",
    "         + f'min: {np.min(roc_auc_per):.2f}; max: {np.max(roc_auc_per):.2f}')\n",
    "    \n",
    "    roc_auc_svc = cross_val_score(\n",
    "        svc,\n",
    "        X,\n",
    "        y,\n",
    "        scoring='roc_auc',\n",
    "        cv=10\n",
    "    )\n",
    "    print('SVC (poly-3):')\n",
    "    print(f'roc_auc: {np.mean(roc_auc_svc):.2f} +- {np.std(roc_auc_svc):.2f}\\t'\n",
    "         + f'min: {np.min(roc_auc_svc):.2f}; max: {np.max(roc_auc_svc):.2f}')\n",
    "    \n",
    "    pvalue = ttest_ind(roc_auc_per, roc_auc_svc).pvalue\n",
    "    print('=====')\n",
    "    print(f'p-value: {pvalue:.3f} (5% de significância)')\n",
    "    if pvalue < 0.05:\n",
    "        print('Classificadores possuem performances diferentes')\n",
    "    else:\n",
    "        print('Não há evidência de diferença de performance')"
   ]
  },
  {
   "cell_type": "code",
   "execution_count": 9,
   "metadata": {},
   "outputs": [
    {
     "name": "stdout",
     "output_type": "stream",
     "text": [
      "Perceptron:\n",
      "roc_auc: 0.97 +- 0.02\tmin: 0.93; max: 1.00\n",
      "SVC (poly-3):\n",
      "roc_auc: 0.97 +- 0.02\tmin: 0.94; max: 0.99\n",
      "=====\n",
      "p-value: 0.876 (5% de significância)\n",
      "Não há evidência de diferença de performance\n"
     ]
    }
   ],
   "source": [
    "# Todas as variáveis preditoras\n",
    "eval_model(\n",
    "    annotated_attributes.iloc[:, 1:-1].values,\n",
    "    annotated_attributes.iloc[:, -1].values\n",
    ")"
   ]
  },
  {
   "cell_type": "markdown",
   "metadata": {},
   "source": [
    "## Seleção do classificador"
   ]
  },
  {
   "cell_type": "markdown",
   "metadata": {},
   "source": [
    "Em nenhum dos testes houve evidências para dizer que um dos classificadores teve performance melhor.  \n",
    "Logo, optei pela simplicidade do perceptron em frente ao SVC. Entre os benefícios de optar pelo modelo simples, há a menor chance de overfitting e menor tempo de treino."
   ]
  },
  {
   "cell_type": "markdown",
   "metadata": {},
   "source": [
    "# Transformação do dataset"
   ]
  },
  {
   "cell_type": "markdown",
   "metadata": {},
   "source": [
    "## Treino do classificador escolhido"
   ]
  },
  {
   "cell_type": "code",
   "execution_count": 10,
   "metadata": {},
   "outputs": [
    {
     "data": {
      "text/plain": [
       "Perceptron(alpha=0.0001, class_weight=None, early_stopping=False, eta0=1.0,\n",
       "      fit_intercept=True, max_iter=1000.0, n_iter=None, n_iter_no_change=5,\n",
       "      n_jobs=None, penalty=None, random_state=0, shuffle=True, tol=None,\n",
       "      validation_fraction=0.1, verbose=0, warm_start=False)"
      ]
     },
     "execution_count": 10,
     "metadata": {},
     "output_type": "execute_result"
    }
   ],
   "source": [
    "classifier = Perceptron(max_iter=1e3)\n",
    "X = annotated_attributes.iloc[:, 1:-1].values\n",
    "y = annotated_attributes.iloc[:, -1].values\n",
    "classifier.fit(X, y)"
   ]
  },
  {
   "cell_type": "code",
   "execution_count": 11,
   "metadata": {},
   "outputs": [
    {
     "data": {
      "text/html": [
       "<div>\n",
       "<style scoped>\n",
       "    .dataframe tbody tr th:only-of-type {\n",
       "        vertical-align: middle;\n",
       "    }\n",
       "\n",
       "    .dataframe tbody tr th {\n",
       "        vertical-align: top;\n",
       "    }\n",
       "\n",
       "    .dataframe thead th {\n",
       "        text-align: right;\n",
       "    }\n",
       "</style>\n",
       "<table border=\"1\" class=\"dataframe\">\n",
       "  <thead>\n",
       "    <tr style=\"text-align: right;\">\n",
       "      <th></th>\n",
       "      <th>ID</th>\n",
       "      <th>TITLE</th>\n",
       "    </tr>\n",
       "  </thead>\n",
       "  <tbody>\n",
       "    <tr>\n",
       "      <th>0</th>\n",
       "      <td>1041354</td>\n",
       "      <td>Acessório T - Jean Bag For Girls para DS Lite</td>\n",
       "    </tr>\n",
       "    <tr>\n",
       "      <th>1</th>\n",
       "      <td>1041782</td>\n",
       "      <td>Carrinho de Bebê Berço-Passeio - Pegasus Pink ...</td>\n",
       "    </tr>\n",
       "    <tr>\n",
       "      <th>2</th>\n",
       "      <td>1041834</td>\n",
       "      <td>Carrinho de Bebê para Gêmeos Berço-Passeio - T...</td>\n",
       "    </tr>\n",
       "    <tr>\n",
       "      <th>3</th>\n",
       "      <td>1042568</td>\n",
       "      <td>Car Center - Calesita</td>\n",
       "    </tr>\n",
       "    <tr>\n",
       "      <th>4</th>\n",
       "      <td>1042584</td>\n",
       "      <td>Donka Trem com Som - Calesita</td>\n",
       "    </tr>\n",
       "  </tbody>\n",
       "</table>\n",
       "</div>"
      ],
      "text/plain": [
       "        ID                                              TITLE\n",
       "0  1041354      Acessório T - Jean Bag For Girls para DS Lite\n",
       "1  1041782  Carrinho de Bebê Berço-Passeio - Pegasus Pink ...\n",
       "2  1041834  Carrinho de Bebê para Gêmeos Berço-Passeio - T...\n",
       "3  1042568                              Car Center - Calesita\n",
       "4  1042584                      Donka Trem com Som - Calesita"
      ]
     },
     "execution_count": 11,
     "metadata": {},
     "output_type": "execute_result"
    }
   ],
   "source": [
    "data = pd.read_csv('data_estag_ds.tsv', sep='\\t')\n",
    "data.head()"
   ]
  },
  {
   "cell_type": "code",
   "execution_count": 12,
   "metadata": {},
   "outputs": [
    {
     "data": {
      "text/html": [
       "<div>\n",
       "<style scoped>\n",
       "    .dataframe tbody tr th:only-of-type {\n",
       "        vertical-align: middle;\n",
       "    }\n",
       "\n",
       "    .dataframe tbody tr th {\n",
       "        vertical-align: top;\n",
       "    }\n",
       "\n",
       "    .dataframe thead th {\n",
       "        text-align: right;\n",
       "    }\n",
       "</style>\n",
       "<table border=\"1\" class=\"dataframe\">\n",
       "  <thead>\n",
       "    <tr style=\"text-align: right;\">\n",
       "      <th></th>\n",
       "      <th>TITLE</th>\n",
       "      <th>smart</th>\n",
       "      <th>phone</th>\n",
       "      <th>celular</th>\n",
       "      <th>bumper</th>\n",
       "      <th>letra_num</th>\n",
       "      <th>capa</th>\n",
       "      <th>para</th>\n",
       "    </tr>\n",
       "  </thead>\n",
       "  <tbody>\n",
       "    <tr>\n",
       "      <th>0</th>\n",
       "      <td>Acessório T - Jean Bag For Girls para DS Lite</td>\n",
       "      <td>0</td>\n",
       "      <td>0</td>\n",
       "      <td>0</td>\n",
       "      <td>0</td>\n",
       "      <td>0</td>\n",
       "      <td>0</td>\n",
       "      <td>1</td>\n",
       "    </tr>\n",
       "    <tr>\n",
       "      <th>1</th>\n",
       "      <td>Carrinho de Bebê Berço-Passeio - Pegasus Pink ...</td>\n",
       "      <td>0</td>\n",
       "      <td>0</td>\n",
       "      <td>0</td>\n",
       "      <td>0</td>\n",
       "      <td>0</td>\n",
       "      <td>0</td>\n",
       "      <td>0</td>\n",
       "    </tr>\n",
       "    <tr>\n",
       "      <th>2</th>\n",
       "      <td>Carrinho de Bebê para Gêmeos Berço-Passeio - T...</td>\n",
       "      <td>0</td>\n",
       "      <td>0</td>\n",
       "      <td>0</td>\n",
       "      <td>0</td>\n",
       "      <td>0</td>\n",
       "      <td>0</td>\n",
       "      <td>1</td>\n",
       "    </tr>\n",
       "    <tr>\n",
       "      <th>3</th>\n",
       "      <td>Car Center - Calesita</td>\n",
       "      <td>0</td>\n",
       "      <td>0</td>\n",
       "      <td>0</td>\n",
       "      <td>0</td>\n",
       "      <td>0</td>\n",
       "      <td>0</td>\n",
       "      <td>0</td>\n",
       "    </tr>\n",
       "    <tr>\n",
       "      <th>4</th>\n",
       "      <td>Donka Trem com Som - Calesita</td>\n",
       "      <td>0</td>\n",
       "      <td>0</td>\n",
       "      <td>0</td>\n",
       "      <td>0</td>\n",
       "      <td>0</td>\n",
       "      <td>0</td>\n",
       "      <td>0</td>\n",
       "    </tr>\n",
       "  </tbody>\n",
       "</table>\n",
       "</div>"
      ],
      "text/plain": [
       "                                               TITLE  smart  phone  celular  \\\n",
       "0      Acessório T - Jean Bag For Girls para DS Lite      0      0        0   \n",
       "1  Carrinho de Bebê Berço-Passeio - Pegasus Pink ...      0      0        0   \n",
       "2  Carrinho de Bebê para Gêmeos Berço-Passeio - T...      0      0        0   \n",
       "3                              Car Center - Calesita      0      0        0   \n",
       "4                      Donka Trem com Som - Calesita      0      0        0   \n",
       "\n",
       "   bumper  letra_num  capa  para  \n",
       "0       0          0     0     1  \n",
       "1       0          0     0     0  \n",
       "2       0          0     0     1  \n",
       "3       0          0     0     0  \n",
       "4       0          0     0     0  "
      ]
     },
     "execution_count": 12,
     "metadata": {},
     "output_type": "execute_result"
    }
   ],
   "source": [
    "data_attr = get_row_attributes(data)\n",
    "data_attr.head()"
   ]
  },
  {
   "cell_type": "code",
   "execution_count": 13,
   "metadata": {},
   "outputs": [],
   "source": [
    "predictions = classifier.predict(data_attr.iloc[:, 1:].values)"
   ]
  },
  {
   "cell_type": "code",
   "execution_count": 14,
   "metadata": {},
   "outputs": [],
   "source": [
    "answers = pd.DataFrame()\n",
    "answers['ID'] = data.ID\n",
    "answers['TITLE'] = data.TITLE\n",
    "answers['SMARTPHONE'] = pd.Series(predictions)"
   ]
  },
  {
   "cell_type": "code",
   "execution_count": 15,
   "metadata": {},
   "outputs": [
    {
     "data": {
      "text/html": [
       "<div>\n",
       "<style scoped>\n",
       "    .dataframe tbody tr th:only-of-type {\n",
       "        vertical-align: middle;\n",
       "    }\n",
       "\n",
       "    .dataframe tbody tr th {\n",
       "        vertical-align: top;\n",
       "    }\n",
       "\n",
       "    .dataframe thead th {\n",
       "        text-align: right;\n",
       "    }\n",
       "</style>\n",
       "<table border=\"1\" class=\"dataframe\">\n",
       "  <thead>\n",
       "    <tr style=\"text-align: right;\">\n",
       "      <th></th>\n",
       "      <th>ID</th>\n",
       "      <th>TITLE</th>\n",
       "      <th>SMARTPHONE</th>\n",
       "    </tr>\n",
       "  </thead>\n",
       "  <tbody>\n",
       "    <tr>\n",
       "      <th>15</th>\n",
       "      <td>3608270</td>\n",
       "      <td>Smartphone LG G2 Lite D295 Branco com Tela de ...</td>\n",
       "      <td>1</td>\n",
       "    </tr>\n",
       "    <tr>\n",
       "      <th>372</th>\n",
       "      <td>10413408</td>\n",
       "      <td>Cachorro Pula Pulga - Elka</td>\n",
       "      <td>0</td>\n",
       "    </tr>\n",
       "    <tr>\n",
       "      <th>391</th>\n",
       "      <td>10416928</td>\n",
       "      <td>Carregador Portátil Sony 5000mah Cp-V5 Branco</td>\n",
       "      <td>0</td>\n",
       "    </tr>\n",
       "    <tr>\n",
       "      <th>1039</th>\n",
       "      <td>10570266</td>\n",
       "      <td>Boneco Mickey Docinho Multibrink</td>\n",
       "      <td>0</td>\n",
       "    </tr>\n",
       "    <tr>\n",
       "      <th>1064</th>\n",
       "      <td>10570501</td>\n",
       "      <td>Papel Decoupage Flores Roxas Ld-797 - Litocart</td>\n",
       "      <td>0</td>\n",
       "    </tr>\n",
       "    <tr>\n",
       "      <th>1203</th>\n",
       "      <td>10588502</td>\n",
       "      <td>Capa Motorola Moto E PC Branco</td>\n",
       "      <td>0</td>\n",
       "    </tr>\n",
       "    <tr>\n",
       "      <th>1389</th>\n",
       "      <td>10615481</td>\n",
       "      <td>Sapatilha Metalizada Lilly's Closet Com Laço</td>\n",
       "      <td>0</td>\n",
       "    </tr>\n",
       "    <tr>\n",
       "      <th>1947</th>\n",
       "      <td>10664346</td>\n",
       "      <td>Fonte Carregador Ibm Lenovo Thinkpad Sl510 Sl5...</td>\n",
       "      <td>0</td>\n",
       "    </tr>\n",
       "    <tr>\n",
       "      <th>2145</th>\n",
       "      <td>708769702</td>\n",
       "      <td>Lançamento Smartphone Cat S61 Tela 5.2 64gb 4g...</td>\n",
       "      <td>1</td>\n",
       "    </tr>\n",
       "    <tr>\n",
       "      <th>2512</th>\n",
       "      <td>1081214087</td>\n",
       "      <td>Celular Lançamento Xiaomi Mi A2 64gb 4g Ram Gl...</td>\n",
       "      <td>1</td>\n",
       "    </tr>\n",
       "  </tbody>\n",
       "</table>\n",
       "</div>"
      ],
      "text/plain": [
       "              ID                                              TITLE  \\\n",
       "15       3608270  Smartphone LG G2 Lite D295 Branco com Tela de ...   \n",
       "372     10413408                         Cachorro Pula Pulga - Elka   \n",
       "391     10416928      Carregador Portátil Sony 5000mah Cp-V5 Branco   \n",
       "1039    10570266                   Boneco Mickey Docinho Multibrink   \n",
       "1064    10570501     Papel Decoupage Flores Roxas Ld-797 - Litocart   \n",
       "1203    10588502                     Capa Motorola Moto E PC Branco   \n",
       "1389    10615481       Sapatilha Metalizada Lilly's Closet Com Laço   \n",
       "1947    10664346  Fonte Carregador Ibm Lenovo Thinkpad Sl510 Sl5...   \n",
       "2145   708769702  Lançamento Smartphone Cat S61 Tela 5.2 64gb 4g...   \n",
       "2512  1081214087  Celular Lançamento Xiaomi Mi A2 64gb 4g Ram Gl...   \n",
       "\n",
       "      SMARTPHONE  \n",
       "15             1  \n",
       "372            0  \n",
       "391            0  \n",
       "1039           0  \n",
       "1064           0  \n",
       "1203           0  \n",
       "1389           0  \n",
       "1947           0  \n",
       "2145           1  \n",
       "2512           1  "
      ]
     },
     "execution_count": 15,
     "metadata": {},
     "output_type": "execute_result"
    }
   ],
   "source": [
    "answers.sample(10).sort_index()"
   ]
  },
  {
   "cell_type": "code",
   "execution_count": 16,
   "metadata": {},
   "outputs": [],
   "source": [
    "answers.to_csv('output.tsv', sep='\\t', index=False)"
   ]
  }
 ],
 "metadata": {
  "kernelspec": {
   "display_name": "Python 3",
   "language": "python",
   "name": "python3"
  },
  "language_info": {
   "codemirror_mode": {
    "name": "ipython",
    "version": 3
   },
   "file_extension": ".py",
   "mimetype": "text/x-python",
   "name": "python",
   "nbconvert_exporter": "python",
   "pygments_lexer": "ipython3",
   "version": "3.6.6"
  }
 },
 "nbformat": 4,
 "nbformat_minor": 2
}
